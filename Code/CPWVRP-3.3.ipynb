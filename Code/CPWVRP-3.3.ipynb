{
 "cells": [
  {
   "cell_type": "code",
   "execution_count": null,
   "metadata": {},
   "outputs": [],
   "source": [
    "import pyomo.environ as pyo\n",
    "\n",
    "from scipy.spatial.distance import pdist, squareform\n",
    "\n",
    "import numpy as np\n",
    "import matplotlib.pyplot as plt\n",
    "import matplotlib as mpl\n",
    "\n",
    "import time\n",
    "from itertools import cycle\n",
    "\n",
    "#from pyomo.contrib.appsi.solvers import Highs\n",
    "\n",
    "import pandas as pd\n",
    "from decimal import Decimal"
   ]
  },
  {
   "cell_type": "code",
   "execution_count": null,
   "metadata": {},
   "outputs": [],
   "source": [
    "# FILE = 'test1'\n",
    "# ACCURATE = False\n",
    "# FILE = 'shuffled_ordered_data/R211_shuffled_ordered'\n",
    "FILE = 'shuffled_data/RC201_shuffled'\n",
    "# FILE = 'test_data/test6'\n",
    "# FILE = 'test_data/R211_test'\n",
    "# FILE = 'experiment2_data/C201_test'\n",
    "FILE_NAME = \"C:/Users/caleb/Desktop/Study/MA4079-Final_Year_Project/Data/\"+FILE+\".csv\"\n",
    "data = pd.read_csv(FILE_NAME)\n",
    "data.columns = data.columns.astype(str)"
   ]
  },
  {
   "cell_type": "code",
   "execution_count": null,
   "metadata": {},
   "outputs": [],
   "source": [
    "PLANNING_TIME = 0\n",
    "CUSTOMERS_LIST = []\n",
    "data = data.loc[(data['DUE DATE'] >= PLANNING_TIME) | (data['CUST NO.'].isin(CUSTOMERS_LIST))]\n",
    "data.shape"
   ]
  },
  {
   "cell_type": "code",
   "execution_count": null,
   "metadata": {},
   "outputs": [],
   "source": [
    "N = 100\n",
    "CAPACITY = 50\n",
    "N_VEHICLES = 3\n",
    "R = 3 #number of trips. set to a fiarly large number\n",
    "DEMAND_TYPES = 5\n",
    "VEHICLE_COMPARMENTS = 5\n",
    "\n",
    "vehicle_capacities = np.array([[CAPACITY]*DEMAND_TYPES]*N_VEHICLES)\n",
    "df = data[:N+1]\n",
    "cust_no = np.array(df.loc[:,'CUST NO.'])\n",
    "demands = np.array(df.loc[:,'DEMAND'])\n",
    "service_time = np.array(df.loc[:,'SERVICE TIME'])#demands #np.zeros(len(demands)) #demands \n",
    "demands_zeros = np.zeros((len(demands), DEMAND_TYPES-1))\n",
    "demands = np.hstack((demands.reshape(N+1,1),demands_zeros))\n",
    "coordinates = np.array(df.loc[:,['XCOORD','YCOORD']])\n",
    "start_time_windows = np.array(df.loc[:,'READY TIME'])\n",
    "end_time_windows = np.array(df.loc[:,'DUE DATE']) \n",
    "\n",
    "demands_index = [i for i in range(1,N+1)]\n",
    "\n",
    "START_TIME = start_time_windows[0]\n",
    "END_TIME = end_time_windows[0]\n",
    "\n",
    "print(START_TIME)\n",
    "print(END_TIME)"
   ]
  },
  {
   "cell_type": "code",
   "execution_count": null,
   "metadata": {},
   "outputs": [],
   "source": [
    "coordinates"
   ]
  },
  {
   "cell_type": "code",
   "execution_count": null,
   "metadata": {},
   "outputs": [],
   "source": [
    "end_time_windows"
   ]
  },
  {
   "cell_type": "code",
   "execution_count": null,
   "metadata": {},
   "outputs": [],
   "source": [
    "demands_shuffled = np.array(df.iloc[:,4:9])\n",
    "demands_shuffled"
   ]
  },
  {
   "cell_type": "code",
   "execution_count": null,
   "metadata": {},
   "outputs": [],
   "source": [
    "TOTAL_GOODS = demands_shuffled.sum()\n",
    "TOTAL_GOODS"
   ]
  },
  {
   "cell_type": "code",
   "execution_count": null,
   "metadata": {},
   "outputs": [],
   "source": [
    "print('Max possible score:', np.abs(demands_shuffled).sum())\n",
    "#print('Max goods:', np.abs(demands).sum()/2)\n",
    "print ('Veh max Capacity:', vehicle_capacities.sum())"
   ]
  },
  {
   "cell_type": "code",
   "execution_count": null,
   "metadata": {},
   "outputs": [],
   "source": [
    "distances = squareform(pdist(coordinates, metric=\"euclidean\"))\n",
    "def trunc(values, decs=1):\n",
    "    return np.trunc(values*10**decs)/(10**decs)\n",
    "distances = trunc(distances)\n",
    "# distances = np.round(distances, decimals=2)\n",
    "\n",
    "#travel_time = distances/5\n",
    "travel_time = distances\n",
    "# travel_time"
   ]
  },
  {
   "cell_type": "code",
   "execution_count": null,
   "metadata": {},
   "outputs": [],
   "source": [
    "# Choosing colors\n",
    "cmap = mpl.colormaps[\"Dark2\"]\n",
    "colors = cycle(cmap.colors)\n",
    "\n",
    "# Now the figure\n",
    "fig, ax = plt.subplots(figsize=[6, 5], dpi=100)\n",
    "\n",
    "for i, coord in enumerate(coordinates):\n",
    "    x = coord[0]\n",
    "    y= coord[1]\n",
    "    ax.scatter(x,y)\n",
    "    ax.annotate(i, (x,y))"
   ]
  },
  {
   "cell_type": "code",
   "execution_count": null,
   "metadata": {},
   "outputs": [],
   "source": [
    "model = pyo.ConcreteModel()"
   ]
  },
  {
   "cell_type": "markdown",
   "metadata": {},
   "source": [
    "## Sets"
   ]
  },
  {
   "cell_type": "code",
   "execution_count": null,
   "metadata": {},
   "outputs": [],
   "source": [
    "model.D = pyo.Set(initialize=demands_index) #set of vessels\n",
    "model.N = pyo.Set(initialize=range(len(demands))) # set of vessels+depot\n",
    "model.N1 = pyo.Set(initialize=range(len(demands)+1)) # set of vessels+depot+end\n",
    "model.A = pyo.Set(initialize=[(i, j) for i in model.N for j in model.N if i != j]) #set of arcs\n",
    "model.K = pyo.Set(initialize=range(N_VEHICLES)) #set of vehicles\n",
    "model.R  = pyo.Set(initialize=range(R)) # set of trips\n",
    "model.F = pyo.Set(initialize = range(DEMAND_TYPES)) #set of demand types"
   ]
  },
  {
   "cell_type": "markdown",
   "metadata": {},
   "source": [
    "## Parameters"
   ]
  },
  {
   "cell_type": "code",
   "execution_count": null,
   "metadata": {},
   "outputs": [],
   "source": [
    "zeta = 0.1 # travel cost per distance factor\n",
    "price = [1]*DEMAND_TYPES"
   ]
  },
  {
   "cell_type": "code",
   "execution_count": null,
   "metadata": {},
   "outputs": [],
   "source": [
    "model.q = pyo.Param(model.K, model.F, initialize={(i,f): vehicle_capacities[i,f] for i in model.K for f in model.F}) #capacity of vehicles\n",
    "model.c = pyo.Param(model.A, initialize={(i, j): zeta*distances[i, j] for (i, j) in model.A}) #cost of travel per arc\n",
    "model.n = pyo.Param(model.N, model.F, initialize={(i,f): demands_shuffled[i,f] for i in model.N for f in model.F}) #loading of all nodes\n",
    "model.r = pyo.Param(model.N, model.F, initialize={(i,f): price[f]*demands_shuffled[i,f] for i in model.N for f in model.F}) #revenue of all nodes\n",
    "model.s = pyo.Param(model.N, initialize=service_time) #service time per node\n",
    "model.t = pyo.Param(model.N, model.N, initialize={(i, j): travel_time[i, j] for i in model.N for j in model.N}) #travel time per arc)\n",
    "model.a = pyo.Param(model.N, initialize=start_time_windows) #start time windows per node\n",
    "model.b = pyo.Param(model.N, initialize=end_time_windows) #end time windows per node"
   ]
  },
  {
   "cell_type": "markdown",
   "metadata": {},
   "source": [
    "## Variables"
   ]
  },
  {
   "cell_type": "code",
   "execution_count": null,
   "metadata": {},
   "outputs": [],
   "source": [
    "new_start_time_windows = np.append(start_time_windows, START_TIME)\n",
    "new_start_time_windows = [[new_start_time_windows]*R]*N_VEHICLES\n",
    "\n",
    "new_end_time_windows = np.append(end_time_windows, END_TIME)\n",
    "new_end_time_windows = [[new_end_time_windows]*R]*N_VEHICLES"
   ]
  },
  {
   "cell_type": "code",
   "execution_count": null,
   "metadata": {},
   "outputs": [],
   "source": [
    "def time_windows(model, i,k,r):\n",
    "    return (new_start_time_windows[k][r][i], new_end_time_windows[k][r][i])"
   ]
  },
  {
   "cell_type": "markdown",
   "metadata": {},
   "source": [
    "## Variables"
   ]
  },
  {
   "cell_type": "code",
   "execution_count": null,
   "metadata": {},
   "outputs": [],
   "source": [
    "model.X = pyo.Var(model.A, model.K, model.R, within=pyo.Binary) # decision to move along arc ij by vehicle K on trip R\n",
    "model.Y = pyo.Var(model.N, model.K, model.R, within=pyo.Binary) # decision of if node N is visited by vehicle K on trip R\n",
    "model.T = pyo.Var(model.N1, model.K, model.R, within=pyo.NonNegativeReals, bounds= time_windows) # visit time at node N by vehicle K on trip R\n",
    "model.S = pyo.Var(model.K, model.R, within=pyo.NonNegativeReals, bounds= (0,CAPACITY*DEMAND_TYPES)) #serivce time at the depot for the start of each trip\n",
    "model.L = pyo.Var([0,N+1], model.K, model.R, model.F, within=pyo.NonNegativeReals, bounds= (0,CAPACITY)) # fuel load on vehicle K on trip R for fuel type F\n",
    "model.U = pyo.Var(model.N, model.K, model.R, model.F, within=pyo.NonNegativeReals, bounds= (0,CAPACITY))"
   ]
  },
  {
   "cell_type": "markdown",
   "metadata": {},
   "source": [
    "## Constraints"
   ]
  },
  {
   "cell_type": "code",
   "execution_count": null,
   "metadata": {},
   "outputs": [],
   "source": [
    "M = np.zeros((N+1,N+1))\n",
    "beta = 0.2 # rate of fuel transfer at the depot\n",
    "for i in model.N:\n",
    "    for j in model.N:\n",
    "         M[i,j] = model.b[i] + model.s[i] + model.t[i,j] - model.a[j]\n",
    "for j in model.N:\n",
    "      M[0,j] = model.b[0] + CAPACITY*DEMAND_TYPES*beta + model.t[0,j] - model.a[j]\n",
    "print(np.max(M))\n"
   ]
  },
  {
   "cell_type": "code",
   "execution_count": null,
   "metadata": {},
   "outputs": [],
   "source": [
    "def visit_once_rule(model,i): #2/13\n",
    "    return sum(model.Y[i,k,r] for k in model.K for r in model.R) <= 1\n",
    "model.visit_once_rule = pyo.Constraint(model.D, rule=visit_once_rule)\n",
    "\n",
    "def arcs_out_rule(model, i, k,r): #3/14 modifyied Arcs out rule\n",
    "    return sum(model.X[i, j, k,r] for j in model.N if i != j) == model.Y[i,k,r]\n",
    "model.arcs_out_rule = pyo.Constraint(model.N, model.K, model.R, rule=arcs_out_rule)\n",
    "\n",
    "def arcs_in_rule(model, i, k,r): #3/14 modifyied Arcs in rule\n",
    "    return sum(model.X[j, i, k,r] for j in model.N if i != j) == model.Y[i,k,r]\n",
    "model.arcs_in_rule = pyo.Constraint(model.N, model.K, model.R, rule=arcs_in_rule)\n",
    "\n",
    "def feasbile_time_along_arc(model,i,j, k,r): #71\n",
    "    if i == j:\n",
    "        return pyo.Constraint.Skip\n",
    "    else:\n",
    "        # return model.T[i,k,r] + model.s[i] + model.t[i,j] <= model.T[j,k,r] + M*(1-model.X[i,j,k,r])\n",
    "        return model.T[i,k,r] + model.s[i] + model.t[i,j] <= model.T[j,k,r] + M[i,j]*(1-model.X[i,j,k,r])\n",
    "model.feasbile_time_along_arc = pyo.Constraint(model.D, model.D, model.K, model.R, rule=feasbile_time_along_arc)\n",
    "\n",
    "def feasbile_start_time (model,j,k,r): #72 \n",
    "    # return model.T[0,k,r] + model.S[k,r] + model.t[0,j] <= model.T[j,k,r] + M*(1-model.X[0,j,k,r])\n",
    "    return model.T[0,k,r] + model.S[k,r] + model.t[0,j] <= model.T[j,k,r] + M[0,j]*(1-model.X[0,j,k,r])\n",
    "model.feasbile_start_time = pyo.Constraint(model.D, model.K, model.R, rule=feasbile_start_time)\n",
    "\n",
    "def feasbile_end_time (model,i,k,r): #66\n",
    "    # return model.T[i,k,r] + model.s[i] + model.t[i,0] <= model.T[N+1,k,r] + M*(1-model.X[i,0,k,r])\n",
    "    return model.T[i,k,r] + model.s[i] + model.t[i,0] <= model.T[N+1,k,r] + M[i,0]*(1-model.X[i,0,k,r])\n",
    "model.feasbile_end_time = pyo.Constraint(model.D, model.K, model.R, rule=feasbile_end_time)\n",
    "\n",
    "def trip_end_before_start (model, k,r): #67\n",
    "    if r == model.R.last():\n",
    "        return pyo.Constraint.Skip\n",
    "    else:\n",
    "        return model.T[N+1,k,r] <= model.T[0,k,r+1]\n",
    "model.trip_end_before_start = pyo.Constraint(model.K, model.R, rule=trip_end_before_start)    \n",
    "\n",
    "def trip_end_after_start (model, k,r): #modified (necessary)\n",
    "    return model.T[0,k,r] + model.S[k,r] <= model.T[N+1,k,r]\n",
    "model.trip_end_after_start = pyo.Constraint(model.K, model.R, rule=trip_end_after_start)    \n"
   ]
  },
  {
   "cell_type": "markdown",
   "metadata": {},
   "source": [
    "## Service time at depot"
   ]
  },
  {
   "cell_type": "code",
   "execution_count": null,
   "metadata": {},
   "outputs": [],
   "source": [
    "full_capacity = [CAPACITY]*VEHICLE_COMPARMENTS\n",
    "\n",
    "def service_time_at_depot (model,k,r): #73 modified\n",
    "    if r == model.R.first():\n",
    "        return model.S[k,r] == 0 #beta * (sum(full_capacity)- sum(model.L_initial[k,f] for f in model.F))\n",
    "    else:\n",
    "        return model.S[k,r] == beta* (sum(full_capacity) - sum(model.L[N+1,k,r-1,f] for f in model.F))\n",
    "model.service_time_at_depot = pyo.Constraint(model.K, model.R, rule=service_time_at_depot)"
   ]
  },
  {
   "cell_type": "markdown",
   "metadata": {},
   "source": [
    "## Vehicle Loading"
   ]
  },
  {
   "cell_type": "code",
   "execution_count": null,
   "metadata": {},
   "outputs": [],
   "source": [
    "\n",
    "def fuel_del_to_visit(model,i,k,r,f): #if cust i is visited, U>0 else set  U = 0\n",
    "    return model.U[i,k,r,f] == model.Y[i,k,r] * model.n[i,f]\n",
    "\n",
    "    #  return model.U[i,k,r,f] <= model.Y[i,k,r] * CAPACITY\n",
    "model.fuel_del_to_visit = pyo.Constraint(model.N, model.K, model.R, model.F,rule=fuel_del_to_visit)\n",
    "\n",
    "def fuel_load_in_veh_at_start(model,k,r,f): #10\n",
    "    if r == model.R.first():\n",
    "        return pyo.Constraint.Skip #loading for first trip would be handled later\n",
    "    else:\n",
    "        # return pyo.Constraint.Skip\n",
    "        return model.L[0,k,r,f] == full_capacity[f]\n",
    "model.fuel_load_in_veh_at_start = pyo.Constraint(model.K,model.R, model.F,rule=fuel_load_in_veh_at_start)\n",
    "\n",
    "def load_in_veh_at_end(model,k,r,f): #fuel load at end same as or exceeds the load for the trip\n",
    "    return model.L[N+1,k,r,f] == model.L[0,k,r,f] - sum(model.U[i,k,r,f] for i in model.N) \n",
    "model.load_in_veh_at_end = pyo.Constraint(model.K,model.R, model.F,rule=load_in_veh_at_end)\n"
   ]
  },
  {
   "cell_type": "markdown",
   "metadata": {},
   "source": [
    "## Objective"
   ]
  },
  {
   "cell_type": "code",
   "execution_count": null,
   "metadata": {},
   "outputs": [],
   "source": [
    "'''\n",
    "#obj to minise travel cost\n",
    "model.obj = pyo.Objective(\n",
    "    expr=sum(\n",
    "        model.X[i, j, k,r] * model.t[i,j]\n",
    "        for (i, j) in model.A\n",
    "        for k in model.K\n",
    "        for r in model.R\n",
    "        ), \n",
    "    sense=pyo.minimize,\n",
    ")\n",
    "'''\n",
    "'''\n",
    "#obj without travel costs\n",
    "model.obj = pyo.Objective(\n",
    "    expr=sum(\n",
    "        model.Y[i, k,r] * np.abs(model.n[i,f])\n",
    "        for i in model.D\n",
    "        for k in model.K\n",
    "        for r in model.R\n",
    "        for f in model.F\n",
    "        ), \n",
    "    sense=pyo.maximize,\n",
    ")\n",
    "'''\n",
    "\n",
    "#obj with travel costs\n",
    "model.obj = pyo.Objective(\n",
    "    expr=sum(\n",
    "        model.Y[i, k,r] * np.abs(model.r[i,f])\n",
    "        for i in model.D\n",
    "        for k in model.K\n",
    "        for r in model.R\n",
    "        for f in model.F\n",
    "    ) - sum(model.X[i, j, k,r] * model.c[i,j]\n",
    "        for (i, j) in model.A\n",
    "        for k in model.K\n",
    "        for r in model.R),\n",
    "    sense=pyo.maximize,\n",
    ")\n"
   ]
  },
  {
   "cell_type": "markdown",
   "metadata": {},
   "source": [
    "## Inital Conditions"
   ]
  },
  {
   "cell_type": "code",
   "execution_count": null,
   "metadata": {},
   "outputs": [],
   "source": [
    "def route_pair(route):\n",
    "    route_pair = []\n",
    "    for i in range(len(route)-1):\n",
    "        from_node = route[i]\n",
    "        to_node = route[i+1]\n",
    "        if from_node == to_node:\n",
    "            raise Exception('i == j')\n",
    "        else:\n",
    "            route_pair.append((from_node,to_node))\n",
    "    return route_pair"
   ]
  },
  {
   "cell_type": "code",
   "execution_count": null,
   "metadata": {},
   "outputs": [],
   "source": [
    "full_capacity = [CAPACITY]*VEHICLE_COMPARMENTS\n",
    "empty_capacity = [0]*VEHICLE_COMPARMENTS\n",
    "\n",
    "route1_cust_no = [1]\n",
    "route2_cust_no = [1]\n",
    "route3_cust_no = [1]\n",
    "\n",
    "depot_index = np.where(cust_no == 1)[0][0]\n",
    "if len(route1_cust_no) != 0:\n",
    "    route1_index = np.where(cust_no == route1_cust_no)[0][0]\n",
    "else:\n",
    "    route1_index = None\n",
    "if len(route2_cust_no) != 0:\n",
    "    route2_index = np.where(cust_no == route2_cust_no)[0][0]\n",
    "else:\n",
    "    route2_index = None\n",
    "if len(route3_cust_no) != 0:\n",
    "    route3_index = np.where(cust_no == route3_cust_no)[0][0]\n",
    "else:\n",
    "    route3_index = None\n",
    "\n",
    "#time start at depot\n",
    "time_start_1 = 0#50 - travel_time[depot_index,route1_index]\n",
    "time_start_2 = 0#50 - travel_time[depot_index,route2_index]\n",
    "time_start_3 = 0#50 - travel_time[depot_index,route3_index]\n",
    "\n",
    "#loading of vehicle before top up\n",
    "loading1 = full_capacity\n",
    "loading2 = full_capacity\n",
    "loading3 = full_capacity\n",
    "#check that given load does not exceed vehicle capacity\n",
    "for i, cap in enumerate(full_capacity):\n",
    "    if (loading1[i] > cap) or (loading2[i] > cap) or (loading3[i] > cap) :\n",
    "        raise Exception('Capacity over limit')\n",
    "    \n",
    "\n",
    "routes_initial = [route1_cust_no, route2_cust_no, route3_cust_no]\n",
    "time_start_initial = [time_start_1,time_start_2,time_start_3]\n",
    "loading_initial = [loading1,loading2,loading3]"
   ]
  },
  {
   "cell_type": "code",
   "execution_count": null,
   "metadata": {},
   "outputs": [],
   "source": [
    "def trip_split(route):\n",
    "    trip =[]\n",
    "    temp = [0]\n",
    "    for i in range(1, len(route)):\n",
    "        temp.append(route[i])\n",
    "        if route[i] == 0:\n",
    "            trip.append(temp)\n",
    "            temp = [0]\n",
    "    return trip"
   ]
  },
  {
   "cell_type": "code",
   "execution_count": null,
   "metadata": {},
   "outputs": [],
   "source": [
    "print (\"Time start 1:\", time_start_1)\n",
    "print (\"Time start 2:\", time_start_2)\n",
    "print (\"Time start 3:\", time_start_3)"
   ]
  },
  {
   "cell_type": "code",
   "execution_count": null,
   "metadata": {},
   "outputs": [],
   "source": [
    "def inital_loading(model,k,f):\n",
    "    return model.L[0,k,0,f] == loading_initial[k][f]\n",
    "\n",
    "model.inital_loading = pyo.Constraint(model.K,model.F,rule=inital_loading)\n",
    "\n",
    "if route1_index != 0:\n",
    "    def inital_route_1(model):\n",
    "        return model.X[0,route1_index,0,0] == 1\n",
    "    model.inital_route_1 = pyo.Constraint(rule=inital_route_1)\n",
    "if route2_index != 0:\n",
    "    def inital_route_2(model):\n",
    "        return model.X[0,route2_index,1,0] == 1\n",
    "    model.inital_route_2 = pyo.Constraint(rule=inital_route_2)\n",
    "if route3_index != 0:\n",
    "    def inital_route_3(model):\n",
    "        return model.X[0,route3_index,2,0] == 1\n",
    "    model.inital_route_3 = pyo.Constraint(rule=inital_route_3)\n",
    "\n",
    "def initial_time_start_at_depot (model,k):\n",
    "    return model.T[0,k,0] == time_start_initial[k]\n",
    "model.initial_time_start_at_depot = pyo.Constraint(model.K, rule=initial_time_start_at_depot)\n"
   ]
  },
  {
   "cell_type": "markdown",
   "metadata": {},
   "source": [
    "## Reducing arcs"
   ]
  },
  {
   "cell_type": "code",
   "execution_count": null,
   "metadata": {},
   "outputs": [],
   "source": [
    "arcs_index = [(i,j) for i in range(len(demands)) for j in range(len(demands)) if i!=j]\n",
    "len(arcs_index)"
   ]
  },
  {
   "cell_type": "code",
   "execution_count": null,
   "metadata": {},
   "outputs": [],
   "source": [
    "count = 0\n",
    "for arc in model.A:\n",
    "    i,j = arc[0],arc[1]\n",
    "    if start_time_windows[i] +service_time[i] +travel_time[i,j] > end_time_windows[j]:\n",
    "        for k in model.K:\n",
    "            for r in model.R:\n",
    "                model.X[i,j,k,r].fix(0) #remove these arcs\n",
    "                count += 1\n",
    "count\n",
    "# len(arcs_index)"
   ]
  },
  {
   "cell_type": "markdown",
   "metadata": {},
   "source": [
    "## Model Check"
   ]
  },
  {
   "cell_type": "markdown",
   "metadata": {},
   "source": [
    "def cust_no_index(cust_no:int, cust_no_list):\n",
    "    '''\n",
    "    converts customer_number to index in data\n",
    "    '''\n",
    "    temp = np.where(cust_no_list == cust_no)\n",
    "    #print (len(temp[0]))\n",
    "    if len(temp[0]) ==1:\n",
    "        return temp[0][0]\n",
    "    else:\n",
    "        return -1\n",
    "\n",
    "def trip_split(route):\n",
    "    trip =[]\n",
    "    temp = [route[0]]\n",
    "    for i in range(1, len(route)):\n",
    "        temp.append(route[i])\n",
    "        if route[i] == 0:\n",
    "            trip.append(temp)\n",
    "            temp = [0]\n",
    "    return trip\n",
    "\n",
    "routes_custno =  [[1, 73, 96, 84, 70, 99, 16, 53, 24, 20, 23, 87, 1, 57, 98, 14, 18, 75, 25, 90, 94, 81, 1], [1, 93, 40, 37, 32, 29, 30, 39, 45, 9, 8, 80, 10, 1, 97, 69, 56, 5, 2, 71, 101, 1], [1, 66, 60, 46, 6, 3, 13, 17, 12, 89, 1, 95, 85, 51, 35, 27, 33, 55, 92, 49, 26, 78, 59, 1]]\n",
    "routes = []\n",
    "for route in routes_custno:\n",
    "    routes.append([cust_no_index(i,cust_no) for i in route])\n",
    "# routes =  [[0, 23, 6, 13, 0, 12, 1, 0], [0, 11, 18, 2, 5, 3, 4, 8, 0]]\n",
    "node_list= []\n",
    "for k, route in enumerate(routes):\n",
    "    route = trip_split(route)\n",
    "    route = [i for i in route if len(i) >2]\n",
    "    print(route)\n",
    "    for r, trip in enumerate(route[::-1]):\n",
    "        prev_node = trip[0]\n",
    "        for node in trip[1:]:\n",
    "            # model.X[prev_node,node,k,(R-r-1)] = 1\n",
    "            # model.Y[node,k,(R-r-1)] = 1\n",
    "            model.X[prev_node,node,k,(R-r-1)].fix(1)\n",
    "            model.Y[node,k,(R-r-1)].fix(1)\n",
    "            prev_node = node\n"
   ]
  },
  {
   "cell_type": "markdown",
   "metadata": {},
   "source": [
    "## Solve"
   ]
  },
  {
   "cell_type": "code",
   "execution_count": null,
   "metadata": {},
   "outputs": [],
   "source": [
    "TIME_LIMIT = 60\n",
    "THREADS = 1\n",
    "MIPFocus = 0 #gurobi, default is 0, set to 1 to focus more on finding feasible solutions\n",
    "\n",
    "SOVLER_ENGINE = 'gurobi'\n",
    "#solvers glpk  appsi_highs cplex gurobi\n",
    "\n",
    "solver = pyo.SolverFactory(SOVLER_ENGINE)\n",
    "\n",
    "if SOVLER_ENGINE == 'cbc':\n",
    "        solver.options['seconds'] = TIME_LIMIT\n",
    "elif SOVLER_ENGINE == 'glpk':\n",
    "        solver.options['tmlim'] = TIME_LIMIT\n",
    "elif SOVLER_ENGINE == 'appsi_highs':\n",
    "        solver.options['time_limit'] = TIME_LIMIT\n",
    "        #solver.options['parallel'] = True\n",
    "        solver.options['threads'] = THREADS\n",
    "elif SOVLER_ENGINE == 'cplex':\n",
    "        solver.options['timelimit'] = TIME_LIMIT\n",
    "        solver.options['threads'] = THREADS\n",
    "elif SOVLER_ENGINE == 'gurobi':\n",
    "        solver.options['timelimit'] = TIME_LIMIT\n",
    "        solver.options['threads'] = THREADS\n",
    "        solver.options['MIPFocus'] = MIPFocus\n",
    "\n",
    "# sol = solver.solve(tee= True)\n",
    "sol = solver.solve(model, tee= True, warmstart=True) #, warmstart=True , logfile= 'log.txt'\n",
    "# logfile = FILE+str(N)+'.txt'\n",
    "# sol = solver.solve(model, tee= True, logfile= logfile) #, warmstart=True , logfile= 'log.txt'"
   ]
  },
  {
   "cell_type": "code",
   "execution_count": null,
   "metadata": {},
   "outputs": [],
   "source": [
    "print(sol.solver.status)\n",
    "print(sol.solver.termination_condition)\n",
    "print (model.obj())\n",
    "\n",
    "print ('Total amount of goods delivered:',sum(\n",
    "        model.X[i, j, k,r].value * np.abs(model.n[i,f])\n",
    "        for (i, j) in model.A\n",
    "        for k in model.K\n",
    "        for r in model.R\n",
    "        for f in model.F\n",
    "        ) )\n",
    "\n",
    "print ('Total number of vessels visited:', sum(model.Y[i,k,r].value\n",
    "                                               for i in model.D\n",
    "                                               for k in model.K\n",
    "                                               for r in model.R))\n",
    "\n",
    "print ('Total travel time:', sum(model.X[i,j,k,r].value * model.t[i,j]\n",
    "                                               for (i,j) in model.A\n",
    "                                               for k in model.K\n",
    "                                               for r in model.R))"
   ]
  },
  {
   "cell_type": "code",
   "execution_count": null,
   "metadata": {},
   "outputs": [],
   "source": [
    "# model.display()"
   ]
  },
  {
   "cell_type": "markdown",
   "metadata": {},
   "source": [
    "## Plot"
   ]
  },
  {
   "cell_type": "code",
   "execution_count": null,
   "metadata": {},
   "outputs": [],
   "source": [
    "# Choosing colors\n",
    "colors = [\"red\",\"blue\",\"green\",'orange','purple','yellow','black','black']\n",
    "\n",
    "fig, ax = plt.subplots(figsize=[6, 5], dpi=500)\n",
    "# ax.set_aspect('equal')\n",
    "\n",
    "# Now the figure\n",
    "for i, coord in enumerate(coordinates):\n",
    "    x = coord[0]\n",
    "    y= coord[1]\n",
    "    ax.scatter(x,y, color = 'grey')\n",
    "    ax.annotate(cust_no[i], (x,y))\n",
    "\n",
    "#print ('Number of nodes:',N)\n",
    "for k in range(N_VEHICLES):\n",
    "    c = colors[k]\n",
    "    for r in model.R:\n",
    "        for i in range(len(demands)):\n",
    "            for j in range(len(demands)):\n",
    "                if i ==j: \n",
    "                    continue\n",
    "                elif np.isclose(model.X[i, j, k,r].value, 1, atol=1e-1):\n",
    "                    coord1 = coordinates[i]\n",
    "                    coord2 = coordinates[j]\n",
    "                    x1 = coord1[0]\n",
    "                    y1 = coord1[1]\n",
    "                    x2 = coord2[0]\n",
    "                    y2 = coord2[1]\n",
    "                    if i ==0 :\n",
    "                        f = 0\n",
    "                        d = 0\n",
    "                    else: \n",
    "                        demand_shuffled = demands_shuffled[i]\n",
    "                        f= np.nonzero(demand_shuffled)\n",
    "                        d = demand_shuffled[f].astype(int)[0]\n",
    "                        f = f[0][0]\n",
    "\n",
    "                    ax.scatter(x1,y1, color = c)\n",
    "\n",
    "                    # ax.annotate((i,d), (x1,y1))\n",
    "                    ax.plot((x1,x2), (y1,y2), color=c, label= k+1)\n",
    "#ax.legend()\n",
    "\n",
    "for k in range(N_VEHICLES):\n",
    "    print(\"\\nVehicle no:\", k+1)\n",
    "    node = 0\n",
    "    #print (node, end ='')\n",
    "    for r in model.R:\n",
    "        for i in range(len(demands)):\n",
    "            for j in range(len(demands)):\n",
    "                    if node == j:\n",
    "                        continue\n",
    "                    elif np.isclose(model.X[node, j, k,r].value, 1, atol=1e-1):\n",
    "                        print (cust_no[node], \" --\", cust_no[j], end =' ')\n",
    "                        print (\"R:\",r)\n",
    "                        node = j\n",
    "                        break\n",
    "            if node == 0:\n",
    "                break\n",
    "    #print (\"\\n\")"
   ]
  },
  {
   "cell_type": "markdown",
   "metadata": {},
   "source": [
    "## Checking loading constraints"
   ]
  },
  {
   "cell_type": "code",
   "execution_count": null,
   "metadata": {},
   "outputs": [],
   "source": [
    "for k in range(N_VEHICLES):\n",
    "    print('\\n',\"Vehicle no:\", k+1)\n",
    "    print(\"Max Capacity of vehicle:\", vehicle_capacities[k])\n",
    "    node = 0\n",
    "    #print (node, end ='')\n",
    "    for r in model.R:\n",
    "        print ('\\n', 'Trip:', r)\n",
    "        #for f in model.F:\n",
    "        print ('Total loaded onto vehicle', r,':',model.S[k,r].value)\n",
    "        load = [model.L[0,k,r,f].value for f in model.F]\n",
    "        print ('Vehicle Load at depot', [model.L[0,k,r,f].value for f in model.F])\n",
    "        total = np.zeros(DEMAND_TYPES)\n",
    "        for i in range(len(demands)):\n",
    "            for j in range(len(demands)):\n",
    "                    if node == j:\n",
    "                        continue\n",
    "                    elif np.isclose(model.X[node, j, k,r].value, 1, atol=1e-1):\n",
    "                        \n",
    "                        print ('Cust is:', cust_no[node])\n",
    "                    \n",
    "                        print ('Vehicle load', load)\n",
    "                        print ('Load at node:', demands_shuffled[node])\n",
    "                        load -= demands_shuffled[node]\n",
    "                        total += demands_shuffled[node]\n",
    "                        node = j\n",
    "                        break\n",
    "            if node ==0:\n",
    "                 break\n",
    "        print ('Remaining Vehicle load', [model.L[N+1,k,r,f].value for f in model.F])\n",
    "        print('Total delviered:',total)"
   ]
  },
  {
   "cell_type": "markdown",
   "metadata": {},
   "source": [
    "## Checking time constraints"
   ]
  },
  {
   "cell_type": "code",
   "execution_count": null,
   "metadata": {},
   "outputs": [],
   "source": [
    "for k in range(N_VEHICLES):\n",
    "    print(\"Vehicle no:\", k+1)\n",
    "    node = 0\n",
    "    for r in model.R:\n",
    "        print ('\\n', 'Trip no:', r)\n",
    "        print ('Total load of trip', r,':',model.S[k,r].value)\n",
    "        for i in range(len(demands)):\n",
    "            for j in range(len(demands)):\n",
    "                    if node == j:\n",
    "                        continue\n",
    "                    elif np.isclose(model.X[node, j, k,r].value, 1, atol=1e-1):\n",
    "                        print ('Time window at cust:',cust_no[node],': [', model.a[node], model.b[node], ']')\n",
    "                        print ('Time reach cust:',cust_no[node],':', model.T[node,k,r].value, '\\n')\n",
    "                        print ('Service time:', model.s[node])\n",
    "                        print ('Travel time from', cust_no[node],'to', cust_no[j] ,':', model.t[node,j], '\\n')\n",
    "                        node = j\n",
    "                        break\n",
    "            if node ==0:\n",
    "                 break\n",
    "        print ('Time at end,',r,':', model.T[N+1,k,r].value)\n"
   ]
  },
  {
   "cell_type": "markdown",
   "metadata": {},
   "source": [
    "## Schedules per vessel"
   ]
  },
  {
   "cell_type": "code",
   "execution_count": null,
   "metadata": {},
   "outputs": [],
   "source": [
    "fig, ax = plt.subplots(figsize = (5,20))\n",
    "ax.set_xlim(0, N_VEHICLES + 2)\n",
    "ax.set_ylim(START_TIME, END_TIME)\n",
    "ax.set_xticks(np.arange(1, N_VEHICLES + 1))\n",
    "for k in range(N_VEHICLES):\n",
    "    ax.plot([k+1, k+1], [START_TIME,END_TIME], linewidth=2, color='b')  #vessel docking period\n",
    "    for r in range(R): #range(R):\n",
    "        for i in range(len(demands)):\n",
    "            for j in range(len(demands)):\n",
    "                if i ==j: \n",
    "                    continue\n",
    "                elif np.isclose(model.X[i, j, k,r].value, 1, atol=1e-1):\n",
    "                    \n",
    "                    time_start_at_node = model.T[i,k,r].value\n",
    "                    if i !=0: #servicing customers\n",
    "                        service_time_at_node = model.s[i]\n",
    "                        ax.add_patch(plt.Rectangle((k+1-0.25, time_start_at_node), 0.5, service_time_at_node, edgecolor='black',\\\n",
    "                                        linewidth=2,facecolor='none'))\n",
    "                        ax.text(k+1-0.125, time_start_at_node+(service_time_at_node/2), cust_no[i], color = 'black', fontsize = 8)\n",
    "                    else: #starting at terminal\n",
    "                        service_time_at_node = model.S[k,r].value\n",
    "                        ax.add_patch(plt.Rectangle((k+1-0.25, time_start_at_node), 0.5, service_time_at_node, edgecolor='red',\\\n",
    "                                        linewidth=2,facecolor='none'))\n",
    "                    travelling_time = model.t[i,j]\n",
    "                    ax.add_patch(plt.Rectangle((k+1-0.25, time_start_at_node+service_time_at_node), 0.5, travelling_time, edgecolor='orange',\\\n",
    "                                        linewidth=2,facecolor='none'))\n",
    "\n",
    "for k in range(N_VEHICLES):\n",
    "    for r in range(R):\n",
    "        time_start_at_node = model.T[0,k,r].value\n",
    "        service_time_at_node = model.S[k,r].value\n",
    "        ax.add_patch(plt.Rectangle((k+1-0.25, time_start_at_node), 0.5, service_time_at_node, edgecolor='red',\\\n",
    "                        linewidth=2,facecolor='none'))\n",
    "                        \n"
   ]
  }
 ],
 "metadata": {
  "kernelspec": {
   "display_name": "Opti",
   "language": "python",
   "name": "python3"
  },
  "language_info": {
   "codemirror_mode": {
    "name": "ipython",
    "version": 3
   },
   "file_extension": ".py",
   "mimetype": "text/x-python",
   "name": "python",
   "nbconvert_exporter": "python",
   "pygments_lexer": "ipython3",
   "version": "3.9.19"
  }
 },
 "nbformat": 4,
 "nbformat_minor": 2
}
