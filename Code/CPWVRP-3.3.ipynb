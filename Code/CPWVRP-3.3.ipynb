{
 "cells": [
  {
   "cell_type": "code",
   "execution_count": 1,
   "metadata": {},
   "outputs": [],
   "source": [
    "import pyomo.environ as pyo\n",
    "\n",
    "from scipy.spatial.distance import pdist, squareform\n",
    "\n",
    "import numpy as np\n",
    "import matplotlib.pyplot as plt\n",
    "import matplotlib as mpl\n",
    "\n",
    "import time\n",
    "from itertools import cycle\n",
    "\n",
    "#from pyomo.contrib.appsi.solvers import Highs\n",
    "\n",
    "import pandas as pd\n",
    "from decimal import Decimal"
   ]
  },
  {
   "cell_type": "code",
   "execution_count": 2,
   "metadata": {},
   "outputs": [],
   "source": [
    "# FILE = 'test1'\n",
    "# ACCURATE = False\n",
    "# FILE = 'shuffled_ordered_data/R211_shuffled_ordered'\n",
    "FILE = 'shuffled_data/R211_shuffled'\n",
    "# FILE = 'test_data/test6'\n",
    "# FILE = 'test_data/R211_test'\n",
    "# FILE = 'experiment2_data/C201_test'\n",
    "FILE_NAME = \"C:/Users/caleb/Desktop/Study/FYP/Data/\"+FILE+\".csv\"\n",
    "data = pd.read_csv(FILE_NAME)\n",
    "data.columns = data.columns.astype(str)"
   ]
  },
  {
   "cell_type": "code",
   "execution_count": 3,
   "metadata": {},
   "outputs": [
    {
     "data": {
      "text/plain": [
       "(101, 12)"
      ]
     },
     "execution_count": 3,
     "metadata": {},
     "output_type": "execute_result"
    }
   ],
   "source": [
    "PLANNING_TIME = 0\n",
    "CUSTOMERS_LIST = []\n",
    "data = data.loc[(data['DUE DATE'] >= PLANNING_TIME) | (data['CUST NO.'].isin(CUSTOMERS_LIST))]\n",
    "data.shape"
   ]
  },
  {
   "cell_type": "code",
   "execution_count": 4,
   "metadata": {},
   "outputs": [
    {
     "name": "stdout",
     "output_type": "stream",
     "text": [
      "0\n",
      "1000\n"
     ]
    }
   ],
   "source": [
    "N = 25\n",
    "CAPACITY = 50\n",
    "N_VEHICLES = 3\n",
    "R = 3 #number of trips. set to a fiarly large number\n",
    "DEMAND_TYPES = 5\n",
    "VEHICLE_COMPARMENTS = 5\n",
    "\n",
    "vehicle_capacities = np.array([[CAPACITY]*DEMAND_TYPES]*N_VEHICLES)\n",
    "df = data[:N+1]\n",
    "cust_no = np.array(df.loc[:,'CUST NO.'])\n",
    "demands = np.array(df.loc[:,'DEMAND'])\n",
    "service_time = np.array(df.loc[:,'SERVICE TIME'])#demands #np.zeros(len(demands)) #demands \n",
    "demands_zeros = np.zeros((len(demands), DEMAND_TYPES-1))\n",
    "demands = np.hstack((demands.reshape(N+1,1),demands_zeros))\n",
    "coordinates = np.array(df.loc[:,['XCOORD','YCOORD']])\n",
    "start_time_windows = np.array(df.loc[:,'READY TIME'])\n",
    "end_time_windows = np.array(df.loc[:,'DUE DATE']) #+ service_time\n",
    "\n",
    "demands_index = [i for i in range(1,N+1)]\n",
    "\n",
    "START_TIME = start_time_windows[0]\n",
    "# START_TIME = 100\n",
    "END_TIME = end_time_windows[0] #+ service_time[1]\n",
    "\n",
    "print(START_TIME)\n",
    "print(END_TIME)"
   ]
  },
  {
   "cell_type": "code",
   "execution_count": 5,
   "metadata": {},
   "outputs": [
    {
     "data": {
      "text/plain": [
       "array([[35, 35],\n",
       "       [41, 49],\n",
       "       [35, 17],\n",
       "       [55, 45],\n",
       "       [55, 20],\n",
       "       [15, 30],\n",
       "       [25, 30],\n",
       "       [20, 50],\n",
       "       [10, 43],\n",
       "       [55, 60],\n",
       "       [30, 60],\n",
       "       [20, 65],\n",
       "       [50, 35],\n",
       "       [30, 25],\n",
       "       [15, 10],\n",
       "       [30,  5],\n",
       "       [10, 20],\n",
       "       [ 5, 30],\n",
       "       [20, 40],\n",
       "       [15, 60],\n",
       "       [45, 65],\n",
       "       [45, 20],\n",
       "       [45, 10],\n",
       "       [55,  5],\n",
       "       [65, 35],\n",
       "       [65, 20]], dtype=int64)"
      ]
     },
     "execution_count": 5,
     "metadata": {},
     "output_type": "execute_result"
    }
   ],
   "source": [
    "coordinates"
   ]
  },
  {
   "cell_type": "code",
   "execution_count": 6,
   "metadata": {},
   "outputs": [
    {
     "data": {
      "text/plain": [
       "array([1000,  974,  534,  733,  965,  610,  684,  569,  640,  666,  779,\n",
       "        511,  523,  978,  694,  519,  543,  959,  582,  552,  829,  509,\n",
       "        657,  514,  960,  956], dtype=int64)"
      ]
     },
     "execution_count": 6,
     "metadata": {},
     "output_type": "execute_result"
    }
   ],
   "source": [
    "end_time_windows"
   ]
  },
  {
   "cell_type": "code",
   "execution_count": 7,
   "metadata": {},
   "outputs": [],
   "source": [
    "def crazyshuffle(arr,seed):\n",
    "    rng = np.random.default_rng(seed=seed)\n",
    "    x, y = arr.shape\n",
    "    rows = np.indices((x,y))[0]\n",
    "    cols = [rng.permutation(y) for _ in range(x)]\n",
    "    return arr[rows, cols]"
   ]
  },
  {
   "cell_type": "code",
   "execution_count": 8,
   "metadata": {},
   "outputs": [
    {
     "data": {
      "text/plain": [
       "array([[ 0.,  0.,  0.,  0.,  0.],\n",
       "       [10.,  0.,  0.,  0.,  0.],\n",
       "       [ 0.,  7.,  0.,  0.,  0.],\n",
       "       [ 0.,  0., 13.,  0.,  0.],\n",
       "       [ 0.,  0.,  0., 19.,  0.],\n",
       "       [ 0.,  0.,  0.,  0., 26.],\n",
       "       [ 3.,  0.,  0.,  0.,  0.],\n",
       "       [ 0.,  5.,  0.,  0.,  0.],\n",
       "       [ 0.,  0.,  9.,  0.,  0.],\n",
       "       [ 0.,  0.,  0., 16.,  0.],\n",
       "       [ 0.,  0.,  0.,  0., 16.],\n",
       "       [12.,  0.,  0.,  0.,  0.],\n",
       "       [ 0., 19.,  0.,  0.,  0.],\n",
       "       [ 0.,  0., 23.,  0.,  0.],\n",
       "       [ 0.,  0.,  0., 20.,  0.],\n",
       "       [ 0.,  0.,  0.,  0.,  8.],\n",
       "       [19.,  0.,  0.,  0.,  0.],\n",
       "       [ 0.,  2.,  0.,  0.,  0.],\n",
       "       [ 0.,  0., 12.,  0.,  0.],\n",
       "       [ 0.,  0.,  0., 17.,  0.],\n",
       "       [ 0.,  0.,  0.,  0.,  9.],\n",
       "       [11.,  0.,  0.,  0.,  0.],\n",
       "       [ 0., 18.,  0.,  0.,  0.],\n",
       "       [ 0.,  0., 29.,  0.,  0.],\n",
       "       [ 0.,  0.,  0.,  3.,  0.],\n",
       "       [ 0.,  0.,  0.,  0.,  6.]])"
      ]
     },
     "execution_count": 8,
     "metadata": {},
     "output_type": "execute_result"
    }
   ],
   "source": [
    "demands_empty = np.zeros(demands.shape)\n",
    "count = 0\n",
    "for i , demand in enumerate(demands):\n",
    "    for j , d in enumerate(demand):\n",
    "        if d != 0:\n",
    "            demands_empty[i,count] = demands[i,j]\n",
    "            if count < DEMAND_TYPES-1:\n",
    "                count += 1\n",
    "            else:\n",
    "                count = 0\n",
    "demands_empty"
   ]
  },
  {
   "cell_type": "code",
   "execution_count": 9,
   "metadata": {},
   "outputs": [
    {
     "data": {
      "text/plain": [
       "array([[ 0.,  0.,  0.,  0.,  0.],\n",
       "       [10.,  0.,  0.,  0.,  0.],\n",
       "       [ 0.,  0.,  0.,  0.,  7.],\n",
       "       [ 0.,  0.,  0.,  0., 13.],\n",
       "       [ 0.,  0.,  0., 19.,  0.],\n",
       "       [26.,  0.,  0.,  0.,  0.],\n",
       "       [ 0.,  3.,  0.,  0.,  0.],\n",
       "       [ 5.,  0.,  0.,  0.,  0.],\n",
       "       [ 0.,  0.,  0.,  0.,  9.],\n",
       "       [ 0.,  0., 16.,  0.,  0.],\n",
       "       [ 0.,  0.,  0., 16.,  0.],\n",
       "       [ 0., 12.,  0.,  0.,  0.],\n",
       "       [ 0.,  0.,  0., 19.,  0.],\n",
       "       [23.,  0.,  0.,  0.,  0.],\n",
       "       [ 0.,  0.,  0., 20.,  0.],\n",
       "       [ 0.,  8.,  0.,  0.,  0.],\n",
       "       [ 0.,  0.,  0.,  0., 19.],\n",
       "       [ 2.,  0.,  0.,  0.,  0.],\n",
       "       [ 0.,  0., 12.,  0.,  0.],\n",
       "       [17.,  0.,  0.,  0.,  0.],\n",
       "       [ 0.,  0.,  0.,  9.,  0.],\n",
       "       [ 0., 11.,  0.,  0.,  0.],\n",
       "       [ 0.,  0., 18.,  0.,  0.],\n",
       "       [ 0.,  0.,  0., 29.,  0.],\n",
       "       [ 0.,  3.,  0.,  0.,  0.],\n",
       "       [ 6.,  0.,  0.,  0.,  0.]])"
      ]
     },
     "execution_count": 9,
     "metadata": {},
     "output_type": "execute_result"
    }
   ],
   "source": [
    "SEED = 69\n",
    "#service_time = demands #np.array(df.loc[:,'SERVICE TIME'])\n",
    "demands_shuffled = crazyshuffle(demands,SEED)#demands#demands_empty#crazyshuffle(demands,SEED)\n",
    "demands_shuffled"
   ]
  },
  {
   "cell_type": "code",
   "execution_count": 10,
   "metadata": {},
   "outputs": [
    {
     "data": {
      "text/plain": [
       "array([[ 0,  0,  0,  0,  0],\n",
       "       [10,  0,  0,  0,  0],\n",
       "       [ 0,  0,  0,  0,  7],\n",
       "       [ 0,  0,  0,  0, 13],\n",
       "       [ 0,  0,  0, 19,  0],\n",
       "       [26,  0,  0,  0,  0],\n",
       "       [ 0,  3,  0,  0,  0],\n",
       "       [ 5,  0,  0,  0,  0],\n",
       "       [ 0,  0,  0,  0,  9],\n",
       "       [ 0,  0, 16,  0,  0],\n",
       "       [ 0,  0,  0, 16,  0],\n",
       "       [ 0, 12,  0,  0,  0],\n",
       "       [ 0,  0,  0, 19,  0],\n",
       "       [23,  0,  0,  0,  0],\n",
       "       [ 0,  0,  0, 20,  0],\n",
       "       [ 0,  8,  0,  0,  0],\n",
       "       [ 0,  0,  0,  0, 19],\n",
       "       [ 2,  0,  0,  0,  0],\n",
       "       [ 0,  0, 12,  0,  0],\n",
       "       [17,  0,  0,  0,  0],\n",
       "       [ 0,  0,  0,  9,  0],\n",
       "       [ 0, 11,  0,  0,  0],\n",
       "       [ 0,  0, 18,  0,  0],\n",
       "       [ 0,  0,  0, 29,  0],\n",
       "       [ 0,  3,  0,  0,  0],\n",
       "       [ 6,  0,  0,  0,  0]], dtype=int64)"
      ]
     },
     "execution_count": 10,
     "metadata": {},
     "output_type": "execute_result"
    }
   ],
   "source": [
    "demands_shuffled = np.array(df.iloc[:,4:9])\n",
    "demands_shuffled"
   ]
  },
  {
   "cell_type": "code",
   "execution_count": 11,
   "metadata": {},
   "outputs": [
    {
     "data": {
      "text/plain": [
       "332"
      ]
     },
     "execution_count": 11,
     "metadata": {},
     "output_type": "execute_result"
    }
   ],
   "source": [
    "TOTAL_GOODS = demands_shuffled.sum()\n",
    "TOTAL_GOODS"
   ]
  },
  {
   "cell_type": "code",
   "execution_count": 12,
   "metadata": {},
   "outputs": [
    {
     "name": "stdout",
     "output_type": "stream",
     "text": [
      "Max possible score: 332\n",
      "Veh max Capacity: 750\n"
     ]
    }
   ],
   "source": [
    "print('Max possible score:', np.abs(demands_shuffled).sum())\n",
    "#print('Max goods:', np.abs(demands).sum()/2)\n",
    "print ('Veh max Capacity:', vehicle_capacities.sum())"
   ]
  },
  {
   "cell_type": "code",
   "execution_count": 13,
   "metadata": {},
   "outputs": [],
   "source": [
    "distances = squareform(pdist(coordinates, metric=\"euclidean\"))\n",
    "def trunc(values, decs=1):\n",
    "    return np.trunc(values*10**decs)/(10**decs)\n",
    "distances = trunc(distances)\n",
    "# distances = np.round(distances, decimals=2)\n",
    "\n",
    "#travel_time = distances/5\n",
    "travel_time = distances\n",
    "# travel_time"
   ]
  },
  {
   "cell_type": "code",
   "execution_count": 14,
   "metadata": {},
   "outputs": [],
   "source": [
    "\n",
    "# distances_decimal = np.array([[round(Decimal(y),1) for y in x]for x in distances])\n",
    "# distances_decimal = trunc(distances_decimal)\n",
    "# distances_decimal[0,5]"
   ]
  },
  {
   "cell_type": "code",
   "execution_count": 15,
   "metadata": {},
   "outputs": [],
   "source": [
    "# travel_time[0,29]"
   ]
  },
  {
   "cell_type": "code",
   "execution_count": 16,
   "metadata": {},
   "outputs": [
    {
     "data": {
      "image/png": "[encoded data removed]",
      "text/plain": [
       "<Figure size 600x500 with 1 Axes>"
      ]
     },
     "metadata": {},
     "output_type": "display_data"
    }
   ],
   "source": [
    "# Choosing colors\n",
    "cmap = mpl.colormaps[\"Dark2\"]\n",
    "colors = cycle(cmap.colors)\n",
    "\n",
    "# Now the figure\n",
    "fig, ax = plt.subplots(figsize=[6, 5], dpi=100)\n",
    "\n",
    "for i, coord in enumerate(coordinates):\n",
    "    x = coord[0]\n",
    "    y= coord[1]\n",
    "    ax.scatter(x,y)\n",
    "    ax.annotate(i, (x,y))"
   ]
  },
  {
   "cell_type": "code",
   "execution_count": 17,
   "metadata": {},
   "outputs": [],
   "source": [
    "model = pyo.ConcreteModel()"
   ]
  },
  {
   "cell_type": "markdown",
   "metadata": {},
   "source": [
    "## Sets"
   ]
  },
  {
   "cell_type": "code",
   "execution_count": 18,
   "metadata": {},
   "outputs": [],
   "source": [
    "model.D = pyo.Set(initialize=demands_index) #set of vessels\n",
    "model.N = pyo.Set(initialize=range(len(demands))) # set of vessels+depot\n",
    "model.N1 = pyo.Set(initialize=range(len(demands)+1)) # set of vessels+depot+end\n",
    "model.A = pyo.Set(initialize=[(i, j) for i in model.N for j in model.N if i != j]) #set of arcs\n",
    "# model.A = pyo.Set(initialize=[(i, j) for (i,j) in arcs_index]) #set of arcs\n",
    "#model.V = pyo.Set(initialize=[i for i in model.N]) #set of nodes\n",
    "model.K = pyo.Set(initialize=range(N_VEHICLES)) #set of vehicles\n",
    "model.R  = pyo.Set(initialize=range(R)) # set of trips\n",
    "model.F = pyo.Set(initialize = range(DEMAND_TYPES)) #set of demand types"
   ]
  },
  {
   "cell_type": "markdown",
   "metadata": {},
   "source": [
    "## Parameters"
   ]
  },
  {
   "cell_type": "code",
   "execution_count": 19,
   "metadata": {},
   "outputs": [],
   "source": [
    "zeta = 0.1 # travel cost per distance factor\n",
    "price = [1]*DEMAND_TYPES"
   ]
  },
  {
   "cell_type": "code",
   "execution_count": 20,
   "metadata": {},
   "outputs": [],
   "source": [
    "model.q = pyo.Param(model.K, model.F, initialize={(i,f): vehicle_capacities[i,f] for i in model.K for f in model.F}) #capacity of vehicles\n",
    "model.c = pyo.Param(model.A, initialize={(i, j): zeta*distances[i, j] for (i, j) in model.A}) #cost of travel per arc\n",
    "model.n = pyo.Param(model.N, model.F, initialize={(i,f): demands_shuffled[i,f] for i in model.N for f in model.F}) #loading of all nodes\n",
    "model.r = pyo.Param(model.N, model.F, initialize={(i,f): price[f]*demands_shuffled[i,f] for i in model.N for f in model.F}) #revenue of all nodes\n",
    "model.s = pyo.Param(model.N, initialize=service_time) #service time per node\n",
    "model.t = pyo.Param(model.N, model.N, initialize={(i, j): travel_time[i, j] for i in model.N for j in model.N}) #travel time per arc)\n",
    "# model.t = pyo.Param(model.N, model.N, initialize={(i, j): travel_time[i, j] for i in model.N for j in model.N}) #travel time per arc)\n",
    "model.a = pyo.Param(model.N, initialize=start_time_windows) #start time windows per node\n",
    "model.b = pyo.Param(model.N, initialize=end_time_windows) #end time windows per node"
   ]
  },
  {
   "cell_type": "markdown",
   "metadata": {},
   "source": [
    "## Variables"
   ]
  },
  {
   "cell_type": "code",
   "execution_count": 21,
   "metadata": {},
   "outputs": [],
   "source": [
    "new_start_time_windows = np.append(start_time_windows, START_TIME)\n",
    "new_start_time_windows = [[new_start_time_windows]*R]*N_VEHICLES\n",
    "\n",
    "new_end_time_windows = np.append(end_time_windows, END_TIME)\n",
    "new_end_time_windows = [[new_end_time_windows]*R]*N_VEHICLES"
   ]
  },
  {
   "cell_type": "code",
   "execution_count": 22,
   "metadata": {},
   "outputs": [],
   "source": [
    "def time_windows(model, i,k,r):\n",
    "    return (new_start_time_windows[k][r][i], new_end_time_windows[k][r][i])"
   ]
  },
  {
   "cell_type": "markdown",
   "metadata": {},
   "source": [
    "## Variables"
   ]
  },
  {
   "cell_type": "code",
   "execution_count": 23,
   "metadata": {},
   "outputs": [],
   "source": [
    "model.X = pyo.Var(model.A, model.K, model.R, within=pyo.Binary) # decision to move along arc ij by vehicle K on trip R\n",
    "model.Y = pyo.Var(model.N, model.K, model.R, within=pyo.Binary) # decision of if node N is visited by vehicle K on trip R"
   ]
  },
  {
   "cell_type": "code",
   "execution_count": 24,
   "metadata": {},
   "outputs": [],
   "source": [
    "\n",
    "#model.Q = pyo.Var(model.N, model.K, model.R, within=pyo.NonNegativeReals) #sum of all load before serving node N on vehicle K on trip R\n",
    "model.T = pyo.Var(model.N1, model.K, model.R, within=pyo.NonNegativeReals, bounds= time_windows) # visit time at node N by vehicle K on trip R\n",
    "model.S = pyo.Var(model.K, model.R, within=pyo.NonNegativeReals, bounds= (0,CAPACITY*DEMAND_TYPES)) #serivce time at the depot for the start of each trip\n",
    "\n",
    "# model.Z = pyo.Var(model.K, model.R, model.F, within=pyo.Binary) #decision if fuel type f is carried by vehicle K on trip R\n",
    "\n",
    "model.L = pyo.Var([0,N+1], model.K, model.R, model.F, within=pyo.NonNegativeReals, bounds= (0,CAPACITY)) # fuel load on vehicle K on trip R for fuel type F\n",
    "# model.L_initial = pyo.Var(model.K, model.F, within=pyo.NonNegativeReals, bounds= (0,CAPACITY))\n",
    "model.U = pyo.Var(model.N, model.K, model.R, model.F, within=pyo.NonNegativeReals, bounds= (0,CAPACITY))"
   ]
  },
  {
   "cell_type": "markdown",
   "metadata": {},
   "source": [
    "## Constraints"
   ]
  },
  {
   "cell_type": "code",
   "execution_count": 25,
   "metadata": {},
   "outputs": [
    {
     "data": {
      "text/plain": [
       "26"
      ]
     },
     "execution_count": 25,
     "metadata": {},
     "output_type": "execute_result"
    }
   ],
   "source": [
    "len(demands)"
   ]
  },
  {
   "cell_type": "code",
   "execution_count": 26,
   "metadata": {},
   "outputs": [
    {
     "name": "stdout",
     "output_type": "stream",
     "text": [
      "1050.6\n"
     ]
    }
   ],
   "source": [
    "# B = END_TIME*5 #arbitary large number beyond endtime to solve subtour elimination\n",
    "# M = 1e6 # arbitary large constant\n",
    "M = np.zeros((N+1,N+1))\n",
    "# beta = 1 \n",
    "beta = 0.2 # rate of fuel transfer at the depot\n",
    "for i in model.N:\n",
    "    for j in model.N:\n",
    "         M[i,j] = model.b[i] + model.s[i] + model.t[i,j] - model.a[j]\n",
    "      #    M[i,j] =  model.b[i] + model.s[i] + travel_time[i,j] \n",
    "for j in model.N:\n",
    "      M[0,j] = model.b[0] + CAPACITY*DEMAND_TYPES*beta + model.t[0,j] - model.a[j]\n",
    "      # M[0,j] =  model.b[0] +CAPACITY*DEMAND_TYPES*0.2 + travel_time[0,j]\n",
    "print(np.max(M))\n",
    "# M = np.max(M)"
   ]
  },
  {
   "cell_type": "code",
   "execution_count": 27,
   "metadata": {},
   "outputs": [],
   "source": [
    "# M = 1e3\n",
    "# print(M)"
   ]
  },
  {
   "cell_type": "code",
   "execution_count": 28,
   "metadata": {},
   "outputs": [
    {
     "data": {
      "text/plain": [
       "'\\ndef trip_start_after_time_window_start (model, i,k,r): #68\\n    # return model.a[i] *model.Y[i,k,r] <= model.T[i,k,r]\\n    return model.a[i] <= model.T[i,k,r]\\nmodel.trip_start_after_time_window_start = pyo.Constraint(model.D, model.K, model.R, rule=trip_start_after_time_window_start)\\n\\ndef trip_end_before_time_window_end (model, i,k,r): #68 \\n    return model.T[i,k,r] <= (model.b[i]) #*model.Y[i,k,r]\\n    # return model.T[i,k,r] <= (model.b[i]- model.s[i])*model.Y[i,k,r]  #modified to include service time\\nmodel.trip_end_before_time_window_end = pyo.Constraint(model.D, model.K, model.R, rule=trip_end_before_time_window_end)\\n\\ndef trip_end_before_end_time(model,k,r): # 69\\n    return model.T[N+1,k,r] <= END_TIME\\nmodel.trip_end_before_end_time = pyo.Constraint(model.K, model.R, rule=trip_end_before_end_time)'"
      ]
     },
     "execution_count": 28,
     "metadata": {},
     "output_type": "execute_result"
    }
   ],
   "source": [
    "def visit_once_rule(model,i): #2/13\n",
    "    return sum(model.Y[i,k,r] for k in model.K for r in model.R) <= 1\n",
    "model.visit_once_rule = pyo.Constraint(model.D, rule=visit_once_rule)\n",
    "\n",
    "def arcs_out_rule(model, i, k,r): #3/14 modifyied Arcs out rule\n",
    "    return sum(model.X[i, j, k,r] for j in model.N if i != j) == model.Y[i,k,r]\n",
    "model.arcs_out_rule = pyo.Constraint(model.N, model.K, model.R, rule=arcs_out_rule)\n",
    "\n",
    "def arcs_in_rule(model, i, k,r): #3/14 modifyied Arcs in rule\n",
    "    return sum(model.X[j, i, k,r] for j in model.N if i != j) == model.Y[i,k,r]\n",
    "model.arcs_in_rule = pyo.Constraint(model.N, model.K, model.R, rule=arcs_in_rule)\n",
    "\n",
    "def feasbile_time_along_arc(model,i,j, k,r): #71\n",
    "    if i == j:\n",
    "        return pyo.Constraint.Skip\n",
    "    else:\n",
    "        # return model.T[i,k,r] + model.s[i] + model.t[i,j] <= model.T[j,k,r] + M*(1-model.X[i,j,k,r])\n",
    "        return model.T[i,k,r] + model.s[i] + model.t[i,j] <= model.T[j,k,r] + M[i,j]*(1-model.X[i,j,k,r])\n",
    "model.feasbile_time_along_arc = pyo.Constraint(model.D, model.D, model.K, model.R, rule=feasbile_time_along_arc)\n",
    "\n",
    "def feasbile_start_time (model,j,k,r): #72 \n",
    "    # return model.T[0,k,r] + model.S[k,r] + model.t[0,j] <= model.T[j,k,r] + M*(1-model.X[0,j,k,r])\n",
    "    return model.T[0,k,r] + model.S[k,r] + model.t[0,j] <= model.T[j,k,r] + M[0,j]*(1-model.X[0,j,k,r])\n",
    "model.feasbile_start_time = pyo.Constraint(model.D, model.K, model.R, rule=feasbile_start_time)\n",
    "\n",
    "def feasbile_end_time (model,i,k,r): #66\n",
    "    # return model.T[i,k,r] + model.s[i] + model.t[i,0] <= model.T[N+1,k,r] + M*(1-model.X[i,0,k,r])\n",
    "    return model.T[i,k,r] + model.s[i] + model.t[i,0] <= model.T[N+1,k,r] + M[i,0]*(1-model.X[i,0,k,r])\n",
    "model.feasbile_end_time = pyo.Constraint(model.D, model.K, model.R, rule=feasbile_end_time)\n",
    "\n",
    "'''\n",
    "def trip_start_after_end (model, k,r): #modified (may not be needed)\n",
    "    if r == model.R.first():\n",
    "        return pyo.Constraint.Skip\n",
    "    else:\n",
    "        return model.T[N+1,k,r-1] <= model.T[0,k,r]\n",
    "    \n",
    "model.trip_start_after_end = pyo.Constraint(model.K, model.R, rule=trip_start_after_end)   \n",
    "'''\n",
    "def trip_end_before_start (model, k,r): #67\n",
    "    if r == model.R.last():\n",
    "        return pyo.Constraint.Skip\n",
    "    else:\n",
    "        return model.T[N+1,k,r] <= model.T[0,k,r+1]\n",
    "model.trip_end_before_start = pyo.Constraint(model.K, model.R, rule=trip_end_before_start)    \n",
    "\n",
    "def trip_end_after_start (model, k,r): #modified (necessary)\n",
    "    return model.T[0,k,r] + model.S[k,r] <= model.T[N+1,k,r]\n",
    "model.trip_end_after_start = pyo.Constraint(model.K, model.R, rule=trip_end_after_start)    \n",
    "'''\n",
    "def trip_start_after_time_window_start (model, i,k,r): #68\n",
    "    # return model.a[i] *model.Y[i,k,r] <= model.T[i,k,r]\n",
    "    return model.a[i] <= model.T[i,k,r]\n",
    "model.trip_start_after_time_window_start = pyo.Constraint(model.D, model.K, model.R, rule=trip_start_after_time_window_start)\n",
    "\n",
    "def trip_end_before_time_window_end (model, i,k,r): #68 \n",
    "    return model.T[i,k,r] <= (model.b[i]) #*model.Y[i,k,r]\n",
    "    # return model.T[i,k,r] <= (model.b[i]- model.s[i])*model.Y[i,k,r]  #modified to include service time\n",
    "model.trip_end_before_time_window_end = pyo.Constraint(model.D, model.K, model.R, rule=trip_end_before_time_window_end)\n",
    "\n",
    "def trip_end_before_end_time(model,k,r): # 69\n",
    "    return model.T[N+1,k,r] <= END_TIME\n",
    "model.trip_end_before_end_time = pyo.Constraint(model.K, model.R, rule=trip_end_before_end_time)'''\n"
   ]
  },
  {
   "cell_type": "markdown",
   "metadata": {},
   "source": [
    "## Fuel type constraints"
   ]
  },
  {
   "cell_type": "code",
   "execution_count": 29,
   "metadata": {},
   "outputs": [
    {
     "data": {
      "text/plain": [
       "'\\n#i think if the total goods number is too big, it can cause issues\\ndef lower_fuel_type_in_veh (model,k,r,f): #added to count types of fuel carried\\n    return sum(model.n[i,f] * model.Y[i,k,r] for i in model.D) / TOTAL_GOODS <= model.Z[k,r,f] \\nmodel.lower_fuel_type_in_veh = pyo.Constraint(model.K,model.R, model.F, rule=lower_fuel_type_in_veh)\\n\\ndef upper_fuel_type_in_veh (model,k,r,f): #added to count types of fuel carried\\n    return model.Z[k,r,f]  <= sum(model.n[i,f] * model.Y[i,k,r] for i in model.D)\\nmodel.upper_fuel_type_in_veh = pyo.Constraint(model.K,model.R, model.F, rule=upper_fuel_type_in_veh)\\n\\ndef fuel_types_in_veh_within_limits(model,k,r): #added so that fuel types carried is lesser than no of comparments\\n    return sum(model.Z[k,r,f] for f in model.F) <= VEHICLE_COMPARMENTS\\nmodel.fuel_types_in_veh_within_limits = pyo.Constraint(model.K,model.R,rule=fuel_types_in_veh_within_limits)\\n'"
      ]
     },
     "execution_count": 29,
     "metadata": {},
     "output_type": "execute_result"
    }
   ],
   "source": [
    "'''\n",
    "#i think if the total goods number is too big, it can cause issues\n",
    "def lower_fuel_type_in_veh (model,k,r,f): #added to count types of fuel carried\n",
    "    return sum(model.n[i,f] * model.Y[i,k,r] for i in model.D) / TOTAL_GOODS <= model.Z[k,r,f] \n",
    "model.lower_fuel_type_in_veh = pyo.Constraint(model.K,model.R, model.F, rule=lower_fuel_type_in_veh)\n",
    "\n",
    "def upper_fuel_type_in_veh (model,k,r,f): #added to count types of fuel carried\n",
    "    return model.Z[k,r,f]  <= sum(model.n[i,f] * model.Y[i,k,r] for i in model.D)\n",
    "model.upper_fuel_type_in_veh = pyo.Constraint(model.K,model.R, model.F, rule=upper_fuel_type_in_veh)\n",
    "\n",
    "def fuel_types_in_veh_within_limits(model,k,r): #added so that fuel types carried is lesser than no of comparments\n",
    "    return sum(model.Z[k,r,f] for f in model.F) <= VEHICLE_COMPARMENTS\n",
    "model.fuel_types_in_veh_within_limits = pyo.Constraint(model.K,model.R,rule=fuel_types_in_veh_within_limits)\n",
    "'''"
   ]
  },
  {
   "cell_type": "markdown",
   "metadata": {},
   "source": [
    "## Service time at depot"
   ]
  },
  {
   "cell_type": "code",
   "execution_count": 30,
   "metadata": {},
   "outputs": [
    {
     "data": {
      "text/plain": [
       "'\\ndef service_time_at_depot (model,k,r): #73 modified\\n    return model.S[k,r] == beta* sum(model.s[i] * model.Y[i,k,r] for i in model.D)\\nmodel.service_time_at_depot = pyo.Constraint(model.K, model.R, rule=service_time_at_depot)\\n'"
      ]
     },
     "execution_count": 30,
     "metadata": {},
     "output_type": "execute_result"
    }
   ],
   "source": [
    "full_capacity = [CAPACITY]*VEHICLE_COMPARMENTS\n",
    "\n",
    "def service_time_at_depot (model,k,r): #73 modified\n",
    "    if r == model.R.first():\n",
    "        return model.S[k,r] == 0 #beta * (sum(full_capacity)- sum(model.L_initial[k,f] for f in model.F))\n",
    "    else:\n",
    "        return model.S[k,r] == beta* (sum(full_capacity) - sum(model.L[N+1,k,r-1,f] for f in model.F))\n",
    "model.service_time_at_depot = pyo.Constraint(model.K, model.R, rule=service_time_at_depot)\n",
    "'''\n",
    "\n",
    "def service_time_at_depot (model,k,r): #73 modified\n",
    "    if r == model.R.first():\n",
    "        return model.S[k,r] == 0 #beta * (sum(full_capacity)- sum(model.L_initial[k,f] for f in model.F))\n",
    "    else:\n",
    "        return model.S[k,r] == beta* (sum(model.L[0,k,r,f] for f in model.F) - sum(model.L[N+1,k,r-1,f] for f in model.F))\n",
    "model.service_time_at_depot = pyo.Constraint(model.K, model.R, rule=service_time_at_depot)\n",
    "'''\n",
    "'''\n",
    "def service_time_at_depot (model,k,r): #73 modified\n",
    "    return model.S[k,r] == beta* sum(model.s[i] * model.Y[i,k,r] for i in model.D)\n",
    "model.service_time_at_depot = pyo.Constraint(model.K, model.R, rule=service_time_at_depot)\n",
    "'''\n"
   ]
  },
  {
   "cell_type": "markdown",
   "metadata": {},
   "source": [
    "## Vehicle Loading"
   ]
  },
  {
   "cell_type": "code",
   "execution_count": 31,
   "metadata": {},
   "outputs": [
    {
     "data": {
      "text/plain": [
       "'\\ndef loading_within_veh_capcity (model,k,r,f): #4 modifiied for multi-commodity\\n    return sum(model.n[i,f] * model.Y[i,k,r] for i in model.D)<= model.q[k,f]\\nmodel.loading_within_veh_capcity = pyo.Constraint(model.K,model.R, model.F,rule=loading_within_veh_capcity)\\n'"
      ]
     },
     "execution_count": 31,
     "metadata": {},
     "output_type": "execute_result"
    }
   ],
   "source": [
    "'''\n",
    "def loading_within_veh_capcity (model,k,r,f): #4 modifiied for multi-commodity\n",
    "    return sum(model.n[i,f] * model.Y[i,k,r] for i in model.D)<= model.q[k,f]\n",
    "model.loading_within_veh_capcity = pyo.Constraint(model.K,model.R, model.F,rule=loading_within_veh_capcity)\n",
    "'''"
   ]
  },
  {
   "cell_type": "code",
   "execution_count": 32,
   "metadata": {},
   "outputs": [
    {
     "data": {
      "text/plain": [
       "'\\ndef fuel_load_if_trip_not_used (model,j,k,r,f):\\n    return model.L[N+1,k,r,f] <= model.L[0,k,r,f] + M*sum(model.Y[i,k,r] for i in model.D)\\n\\nmodel.fuel_load_if_trip_not_used = pyo.Constraint(model.D,model.K,model.R, model.F,rule=fuel_load_if_trip_not_used)'"
      ]
     },
     "execution_count": 32,
     "metadata": {},
     "output_type": "execute_result"
    }
   ],
   "source": [
    "'''\n",
    "def fuel_del_at_nodes(model,i,f):\n",
    "    return sum(model.U[i,k,r,f] for k in model.K for r in model.R) == model.n[i,f]\n",
    "model.fuel_del_at_nodes = pyo.Constraint(model.N, model.F,rule=fuel_del_at_nodes)\n",
    "'''\n",
    "def fuel_del_to_visit(model,i,k,r,f): #if cust i is visited, U>0 else set  U = 0\n",
    "    return model.U[i,k,r,f] == model.Y[i,k,r] * model.n[i,f]\n",
    "\n",
    "    #  return model.U[i,k,r,f] <= model.Y[i,k,r] * CAPACITY\n",
    "model.fuel_del_to_visit = pyo.Constraint(model.N, model.K, model.R, model.F,rule=fuel_del_to_visit)\n",
    "\n",
    "def fuel_load_in_veh_at_start(model,k,r,f): #10\n",
    "    if r == model.R.first():\n",
    "        return pyo.Constraint.Skip #loading for first trip would be handled later\n",
    "    else:\n",
    "        # return pyo.Constraint.Skip\n",
    "        return model.L[0,k,r,f] == full_capacity[f]\n",
    "model.fuel_load_in_veh_at_start = pyo.Constraint(model.K,model.R, model.F,rule=fuel_load_in_veh_at_start)\n",
    "\n",
    "'''\n",
    "def fuel_load_in_veh_at_nodes(model,i,j,k,r,f):\n",
    "        if i == j:\n",
    "            return pyo.Constraint.Skip\n",
    "        else:\n",
    "            return model.L[j,k,r,f] <= model.L[i,k,r,f] - model.U[i,k,r,f]\n",
    "model.fuel_load_in_veh_at_nodes = pyo.Constraint(model.D,model.D, model.K,model.R, model.F,rule=fuel_load_in_veh_at_nodes)\n",
    "'''\n",
    "def load_in_veh_at_end(model,k,r,f): #fuel load at end same as or exceeds the load for the trip\n",
    "    return model.L[N+1,k,r,f] == model.L[0,k,r,f] - sum(model.U[i,k,r,f] for i in model.N) \n",
    "model.load_in_veh_at_end = pyo.Constraint(model.K,model.R, model.F,rule=load_in_veh_at_end)\n",
    "\n",
    "'''\n",
    "def fuel_load_if_trip_not_used (model,j,k,r,f):\n",
    "    return model.L[N+1,k,r,f] <= model.L[0,k,r,f] + M*sum(model.Y[i,k,r] for i in model.D)\n",
    "\n",
    "model.fuel_load_if_trip_not_used = pyo.Constraint(model.D,model.K,model.R, model.F,rule=fuel_load_if_trip_not_used)'''"
   ]
  },
  {
   "cell_type": "markdown",
   "metadata": {},
   "source": [
    "def fuel_load_in_veh_at_start(model,k,r,f): #10\n",
    "    if r == model.R.first():\n",
    "        return model.L[0,k,r,f] == model.L_initial[k,f]\n",
    "    else:\n",
    "        return model.L[0,k,r,f] == full_capacity[f]\n",
    "model.fuel_load_in_veh_at_start = pyo.Constraint(model.K,model.R, model.F,rule=fuel_load_in_veh_at_start)\n",
    "\n",
    "'''\n",
    "def upper_fuel_load_in_veh_at_start_to_nodes(model,j,k,r,f): #fuel load at depot same as or exceeds the load for the trip\n",
    "    return model.L[j,k,r,f] <= model.L[0,k,r,f] - model.n[0,f] + M*(1-model.X[0,j,k,r])\n",
    "model.upper_fuel_load_in_veh_at_start_to_nodes = pyo.Constraint(model.D, model.K,model.R, model.F,rule=upper_fuel_load_in_veh_at_start_to_nodes)\n",
    "\n",
    "def lower_fuel_load_in_veh_at_start_to_nodes(model,j,k,r,f): #fuel load at depot same as or exceeds the load for the trip\n",
    "    return model.L[j,k,r,f] + M*(1-model.X[0,j,k,r]) >= model.L[0,k,r,f] - model.n[0,f] \n",
    "model.lower_fuel_load_in_veh_at_start_to_nodes = pyo.Constraint(model.D, model.K,model.R, model.F,rule=lower_fuel_load_in_veh_at_start_to_nodes)\n",
    "'''\n",
    "if ACCURATE:\n",
    "    def upper_fuel_load_in_veh_at_nodes(model,i,j,k,r,f):\n",
    "        if i == j:\n",
    "            return pyo.Constraint.Skip\n",
    "        else:\n",
    "            return model.L[j,k,r,f] <= model.L[i,k,r,f] - model.n[i,f] + M*(1-model.X[i,j,k,r])\n",
    "    model.upper_fuel_load_in_veh_at_nodes = pyo.Constraint(model.N, model.D, model.K,model.R, model.F,rule=upper_fuel_load_in_veh_at_nodes)\n",
    "\n",
    "    def lower_fuel_load_in_veh_at_nodes(model,i,j,k,r,f):\n",
    "        if i == j:\n",
    "            return pyo.Constraint.Skip\n",
    "        else:\n",
    "            # return model.L[j,k,r,f] <= model.L[i,k,r,f] - model.n[i,f] + M*(1-model.X[i,j,k,r])\n",
    "            return model.L[j,k,r,f] + M*(1-model.X[i,j,k,r]) >= model.L[i,k,r,f] - model.n[i,f] \n",
    "    model.lower_fuel_load_in_veh_at_nodes = pyo.Constraint(model.N, model.D, model.K,model.R, model.F,rule=lower_fuel_load_in_veh_at_nodes)\n",
    "    def upper_fuel_load_in_veh_at_end(model,i,k,r,f): #fuel load at end same as or exceeds the load for the trip\n",
    "        return model.L[N+1,k,r,f] <= model.L[i,k,r,f] - model.n[i,f] + M*(1-model.X[i,0,k,r])\n",
    "\n",
    "    model.upper_fuel_load_in_veh_at_end = pyo.Constraint(model.D,model.K,model.R, model.F,rule=upper_fuel_load_in_veh_at_end)\n",
    "\n",
    "    def lower_fuel_load_in_veh_at_end(model,i,k,r,f): #fuel load at end same as or exceeds the load for the trip\n",
    "        return model.L[N+1,k,r,f] + M*(1-model.X[i,0,k,r]) >= model.L[i,k,r,f] - model.n[i,f] \n",
    "\n",
    "    model.lower_fuel_load_in_veh_at_end = pyo.Constraint(model.D,model.K,model.R, model.F,rule=lower_fuel_load_in_veh_at_end)\n",
    "\n",
    "\n",
    "    def upper_fuel_load_if_trip_not_used (model,j,k,r,f):\n",
    "        return model.L[N+1,k,r,f] <= model.L[0,k,r,f] + M*sum(model.Y[i,k,r] for i in model.D)\n",
    "\n",
    "    model.upper_fuel_load_if_trip_not_used = pyo.Constraint(model.D,model.K,model.R, model.F,rule=upper_fuel_load_if_trip_not_used)\n",
    "\n",
    "    def lower_fuel_load_if_trip_not_used (model,j,k,r,f):\n",
    "        return model.L[N+1,k,r,f] + M*sum(model.Y[i,k,r] for i in model.D) >= model.L[0,k,r,f] \n",
    "\n",
    "    model.lower_fuel_load_if_trip_not_used = pyo.Constraint(model.D,model.K,model.R, model.F,rule=lower_fuel_load_if_trip_not_used)\n",
    "\n",
    "else:\n",
    "    def load_in_veh_at_nodes(model,i,j,k,r,f):\n",
    "        if i == j:\n",
    "            return pyo.Constraint.Skip\n",
    "        else:\n",
    "            return model.L[j,k,r,f] <= model.L[i,k,r,f] - model.n[i,f] + M*(1-model.X[i,j,k,r])\n",
    "    model.load_in_veh_at_nodes = pyo.Constraint(model.N, model.D, model.K,model.R, model.F,rule=load_in_veh_at_nodes)\n",
    "    \n",
    "    def load_in_veh_at_end(model,i,k,r,f): #fuel load at end same as or exceeds the load for the trip\n",
    "        return model.L[N+1,k,r,f] <= model.L[i,k,r,f] - model.n[i,f] + M*(1-model.X[i,0,k,r])\n",
    "    model.load_in_veh_at_end = pyo.Constraint(model.D,model.K,model.R, model.F,rule=load_in_veh_at_end)\n",
    "    \n",
    "    def fuel_load_if_trip_not_used (model,j,k,r,f):\n",
    "        return model.L[N+1,k,r,f] <= model.L[0,k,r,f] + M*sum(model.Y[i,k,r] for i in model.D)\n",
    "\n",
    "    model.fuel_load_if_trip_not_used = pyo.Constraint(model.D,model.K,model.R, model.F,rule=fuel_load_if_trip_not_used)\n",
    "\n"
   ]
  },
  {
   "cell_type": "markdown",
   "metadata": {},
   "source": [
    "## Objective"
   ]
  },
  {
   "cell_type": "code",
   "execution_count": 33,
   "metadata": {},
   "outputs": [],
   "source": [
    "'''\n",
    "#obj to minise travel cost\n",
    "model.obj = pyo.Objective(\n",
    "    expr=sum(\n",
    "        model.X[i, j, k,r] * model.t[i,j]\n",
    "        for (i, j) in model.A\n",
    "        for k in model.K\n",
    "        for r in model.R\n",
    "        ), \n",
    "    sense=pyo.minimize,\n",
    ")\n",
    "'''\n",
    "'''\n",
    "#obj without travel costs\n",
    "model.obj = pyo.Objective(\n",
    "    expr=sum(\n",
    "        model.Y[i, k,r] * np.abs(model.n[i,f])\n",
    "        for i in model.D\n",
    "        for k in model.K\n",
    "        for r in model.R\n",
    "        for f in model.F\n",
    "        ), \n",
    "    sense=pyo.maximize,\n",
    ")\n",
    "'''\n",
    "\n",
    "#obj with travel costs\n",
    "model.obj = pyo.Objective(\n",
    "    expr=sum(\n",
    "        model.Y[i, k,r] * np.abs(model.r[i,f])\n",
    "        for i in model.D\n",
    "        for k in model.K\n",
    "        for r in model.R\n",
    "        for f in model.F\n",
    "    ) - sum(model.X[i, j, k,r] * model.c[i,j]\n",
    "        for (i, j) in model.A\n",
    "        for k in model.K\n",
    "        for r in model.R),\n",
    "    sense=pyo.maximize,\n",
    ")\n"
   ]
  },
  {
   "cell_type": "markdown",
   "metadata": {},
   "source": [
    "## Inital Conditions"
   ]
  },
  {
   "cell_type": "code",
   "execution_count": 34,
   "metadata": {},
   "outputs": [],
   "source": [
    "def route_pair(route):\n",
    "    route_pair = []\n",
    "    for i in range(len(route)-1):\n",
    "        from_node = route[i]\n",
    "        to_node = route[i+1]\n",
    "        if from_node == to_node:\n",
    "            raise Exception('i == j')\n",
    "        else:\n",
    "            route_pair.append((from_node,to_node))\n",
    "    return route_pair"
   ]
  },
  {
   "cell_type": "code",
   "execution_count": 35,
   "metadata": {},
   "outputs": [],
   "source": [
    "# np.where(cust_no == i for i in rouite[1,3])"
   ]
  },
  {
   "cell_type": "code",
   "execution_count": 36,
   "metadata": {},
   "outputs": [
    {
     "data": {
      "text/plain": [
       "'\\nroutes_initial = [route1_cust_no]#, route2_cust_no, route3_cust_no]\\ntime_start_initial = [time_start_1]#,time_start_2,time_start_3]\\nloading_initial = [loading1]#,loading2,loading3]'"
      ]
     },
     "execution_count": 36,
     "metadata": {},
     "output_type": "execute_result"
    }
   ],
   "source": [
    "full_capacity = [CAPACITY]*VEHICLE_COMPARMENTS\n",
    "empty_capacity = [0]*VEHICLE_COMPARMENTS\n",
    "\n",
    "route1_cust_no = [1]\n",
    "route2_cust_no = [1]\n",
    "route3_cust_no = [1]\n",
    "\n",
    "depot_index = np.where(cust_no == 1)[0][0]\n",
    "if len(route1_cust_no) != 0:\n",
    "    route1_index = np.where(cust_no == route1_cust_no)[0][0]\n",
    "else:\n",
    "    route1_index = None\n",
    "if len(route2_cust_no) != 0:\n",
    "    route2_index = np.where(cust_no == route2_cust_no)[0][0]\n",
    "else:\n",
    "    route2_index = None\n",
    "if len(route3_cust_no) != 0:\n",
    "    route3_index = np.where(cust_no == route3_cust_no)[0][0]\n",
    "else:\n",
    "    route3_index = None\n",
    "\n",
    "#time start at depot\n",
    "time_start_1 = 0#50 - travel_time[depot_index,route1_index]\n",
    "time_start_2 = 0#50 - travel_time[depot_index,route2_index]\n",
    "time_start_3 = 0#50 - travel_time[depot_index,route3_index]\n",
    "\n",
    "#loading of vehicle before top up\n",
    "loading1 = full_capacity\n",
    "loading2 = full_capacity\n",
    "loading3 = full_capacity\n",
    "#check that given load does not exceed vehicle capacity\n",
    "for i, cap in enumerate(full_capacity):\n",
    "    if (loading1[i] > cap) or (loading2[i] > cap) or (loading3[i] > cap) :\n",
    "        raise Exception('Capacity over limit')\n",
    "    \n",
    "\n",
    "routes_initial = [route1_cust_no, route2_cust_no, route3_cust_no]\n",
    "time_start_initial = [time_start_1,time_start_2,time_start_3]\n",
    "loading_initial = [loading1,loading2,loading3]\n",
    "'''\n",
    "routes_initial = [route1_cust_no]#, route2_cust_no, route3_cust_no]\n",
    "time_start_initial = [time_start_1]#,time_start_2,time_start_3]\n",
    "loading_initial = [loading1]#,loading2,loading3]'''"
   ]
  },
  {
   "cell_type": "code",
   "execution_count": 37,
   "metadata": {},
   "outputs": [],
   "source": [
    "def trip_split(route):\n",
    "    trip =[]\n",
    "    temp = [0]\n",
    "    for i in range(1, len(route)):\n",
    "        temp.append(route[i])\n",
    "        if route[i] == 0:\n",
    "            trip.append(temp)\n",
    "            temp = [0]\n",
    "    return trip"
   ]
  },
  {
   "cell_type": "code",
   "execution_count": 38,
   "metadata": {},
   "outputs": [
    {
     "name": "stdout",
     "output_type": "stream",
     "text": [
      "Time start 1: 0\n",
      "Time start 2: 0\n",
      "Time start 3: 0\n"
     ]
    }
   ],
   "source": [
    "print (\"Time start 1:\", time_start_1)\n",
    "print (\"Time start 2:\", time_start_2)\n",
    "print (\"Time start 3:\", time_start_3)"
   ]
  },
  {
   "cell_type": "code",
   "execution_count": 39,
   "metadata": {},
   "outputs": [],
   "source": [
    "# model.L_initial.pprint()"
   ]
  },
  {
   "cell_type": "code",
   "execution_count": 40,
   "metadata": {},
   "outputs": [
    {
     "data": {
      "text/plain": [
       "'\\ndef initial_time_start_at_depot_1 (model):\\n    return model.T[0,0,0] == time_start_1\\nmodel.initial_time_start_at_depot_1 = pyo.Constraint(rule=initial_time_start_at_depot_1)\\ndef initial_time_start_at_depot_2 (model):\\n    return model.T[0,1,0] == time_start_2\\nmodel.initial_time_start_at_depot_2 = pyo.Constraint(rule=initial_time_start_at_depot_2)\\ndef initial_time_start_at_depot_3 (model):\\n    return model.T[0,2,0] == time_start_3\\nmodel.initial_time_start_at_depot_3 = pyo.Constraint(rule=initial_time_start_at_depot_3)\\n'"
      ]
     },
     "execution_count": 40,
     "metadata": {},
     "output_type": "execute_result"
    }
   ],
   "source": [
    "def inital_loading(model,k,f):\n",
    "    return model.L[0,k,0,f] == loading_initial[k][f]\n",
    "\n",
    "model.inital_loading = pyo.Constraint(model.K,model.F,rule=inital_loading)\n",
    "'''\n",
    "def inital_loading_1(model,f):\n",
    "    # loading = loading1\n",
    "    return model.L_initial[0,f] == loading1[f]\n",
    "\n",
    "model.inital_loading_1 = pyo.Constraint(model.F,rule=inital_loading_1)\n",
    "\n",
    "def inital_loading_2(model,f):\n",
    "    # loading = loading2\n",
    "    return model.L_initial[1,f] == loading2[f]\n",
    "\n",
    "model.inital_loading_2 = pyo.Constraint(model.F,rule=inital_loading_2)\n",
    "\n",
    "def inital_loading_3(model,f):\n",
    "    # loading = loading3\n",
    "    return model.L_initial[2,f] == loading3[f]\n",
    "\n",
    "model.inital_loading_3 = pyo.Constraint(model.F,rule=inital_loading_3)\n",
    "'''\n",
    "if route1_index != 0:\n",
    "    def inital_route_1(model):\n",
    "        return model.X[0,route1_index,0,0] == 1\n",
    "    model.inital_route_1 = pyo.Constraint(rule=inital_route_1)\n",
    "if route2_index != 0:\n",
    "    def inital_route_2(model):\n",
    "        return model.X[0,route2_index,1,0] == 1\n",
    "    model.inital_route_2 = pyo.Constraint(rule=inital_route_2)\n",
    "if route3_index != 0:\n",
    "    def inital_route_3(model):\n",
    "        return model.X[0,route3_index,2,0] == 1\n",
    "    model.inital_route_3 = pyo.Constraint(rule=inital_route_3)\n",
    "'''\n",
    "route1 = [np.where(cust_no == i)[0][0] for i in route1_cust_no]\n",
    "route2 = [np.where(cust_no == i)[0][0] for i in route2_cust_no]\n",
    "route3 = [np.where(cust_no == i)[0][0] for i in route3_cust_no]\n",
    "\n",
    "route1 = trip_split(route1)\n",
    "route2 = trip_split(route2)\n",
    "route3 = trip_split(route3)\n",
    "\n",
    "route_pair1 = [route_pair(route)for route in route1]\n",
    "route_pair2 = [route_pair(route)for route in route2]\n",
    "route_pair3 = [route_pair(route)for route in route3]\n",
    "if len(route_pair1) > 0:\n",
    "    def inital_route_1_0(model,i,j,r):\n",
    "        return model.X[i,j,0,r] == 1\n",
    "    model.inital_route_1_0 = pyo.Constraint(route_pair1[0],[0],rule=inital_route_1_0)\n",
    "\n",
    "if len(route_pair1) > 1:\n",
    "    def inital_route_1_1(model,i,j,r):\n",
    "        return model.X[i,j,0,r] == 1\n",
    "    model.inital_route_1_1 = pyo.Constraint(route_pair1[1],[1],rule=inital_route_1_1)\n",
    "\n",
    "if len(route_pair1) > 2:\n",
    "    def inital_route_1_2(model,i,j,r):\n",
    "        return model.X[i,j,0,r] == 1\n",
    "    model.inital_route_1_2 = pyo.Constraint(route_pair1[2],[2],rule=inital_route_1_2)\n",
    "\n",
    "\n",
    "if len(route_pair2) > 0:\n",
    "    def inital_route_2_0(model,i,j,r):\n",
    "        return model.X[i,j,1,r] == 1 \n",
    "    model.inital_route_2_0 = pyo.Constraint(route_pair2[0],[0],rule=inital_route_2_0)\n",
    "\n",
    "if len(route_pair2) > 1:\n",
    "    def inital_route_2_1(model,i,j,r):\n",
    "        return model.X[i,j,1,r] == 1 \n",
    "    model.inital_route_2_1 = pyo.Constraint(route_pair2[1],[1],rule=inital_route_2_1)\n",
    "\n",
    "if len(route_pair2) > 2:\n",
    "    def inital_route_2_2(model,i,j,r):\n",
    "        return model.X[i,j,1,r] == 1 \n",
    "    model.inital_route_2_2 = pyo.Constraint(route_pair2[2],[2],rule=inital_route_2_2)\n",
    "\n",
    "if len(route_pair3) > 0:\n",
    "    def inital_route_3_0(model,i,j,r):\n",
    "        return model.X[i,j,2,r] == 1 \n",
    "    model.inital_route_3_0 = pyo.Constraint(route_pair3[0],[0],rule=inital_route_3_0)\n",
    "\n",
    "if len(route_pair3) > 1:\n",
    "    def inital_route_3_1(model,i,j,r):\n",
    "        return model.X[i,j,2,r] == 1 \n",
    "    model.inital_route_3_1 = pyo.Constraint(route_pair3[1],[1],rule=inital_route_3_1)\n",
    "\n",
    "if len(route_pair3) > 2:\n",
    "    def inital_route_3_2(model,i,j,r):\n",
    "        return model.X[i,j,2,r] == 1 \n",
    "    model.inital_route_3_2 = pyo.Constraint(route_pair3[2],[2],rule=inital_route_3_2)\n",
    "'''\n",
    "def initial_time_start_at_depot (model,k):\n",
    "    return model.T[0,k,0] == time_start_initial[k]\n",
    "model.initial_time_start_at_depot = pyo.Constraint(model.K, rule=initial_time_start_at_depot)\n",
    "'''\n",
    "def initial_time_start_at_depot_1 (model):\n",
    "    return model.T[0,0,0] == time_start_1\n",
    "model.initial_time_start_at_depot_1 = pyo.Constraint(rule=initial_time_start_at_depot_1)\n",
    "def initial_time_start_at_depot_2 (model):\n",
    "    return model.T[0,1,0] == time_start_2\n",
    "model.initial_time_start_at_depot_2 = pyo.Constraint(rule=initial_time_start_at_depot_2)\n",
    "def initial_time_start_at_depot_3 (model):\n",
    "    return model.T[0,2,0] == time_start_3\n",
    "model.initial_time_start_at_depot_3 = pyo.Constraint(rule=initial_time_start_at_depot_3)\n",
    "'''"
   ]
  },
  {
   "cell_type": "markdown",
   "metadata": {},
   "source": [
    "## Reducing arcs"
   ]
  },
  {
   "cell_type": "code",
   "execution_count": 41,
   "metadata": {},
   "outputs": [
    {
     "data": {
      "text/plain": [
       "650"
      ]
     },
     "execution_count": 41,
     "metadata": {},
     "output_type": "execute_result"
    }
   ],
   "source": [
    "arcs_index = [(i,j) for i in range(len(demands)) for j in range(len(demands)) if i!=j]\n",
    "len(arcs_index)"
   ]
  },
  {
   "cell_type": "code",
   "execution_count": 42,
   "metadata": {},
   "outputs": [
    {
     "data": {
      "text/plain": [
       "27"
      ]
     },
     "execution_count": 42,
     "metadata": {},
     "output_type": "execute_result"
    }
   ],
   "source": [
    "count = 0\n",
    "for arc in model.A:\n",
    "    i,j = arc[0],arc[1]\n",
    "    if start_time_windows[i] +service_time[i] +travel_time[i,j] > end_time_windows[j]:\n",
    "        for k in model.K:\n",
    "            for r in model.R:\n",
    "                model.X[i,j,k,r].fix(0) #remove these arcs\n",
    "                count += 1\n",
    "count\n",
    "# len(arcs_index)"
   ]
  },
  {
   "cell_type": "markdown",
   "metadata": {},
   "source": [
    "## Model Check"
   ]
  },
  {
   "cell_type": "code",
   "execution_count": 43,
   "metadata": {},
   "outputs": [
    {
     "name": "stdout",
     "output_type": "stream",
     "text": [
      "[[0, 6, 16, 14, 15, 2, 13, 0]]\n",
      "[[0, 12, 3, 9, 20, 10, 11, 19, 7, 18, 8, 17, 5, 0]]\n",
      "[[0, 21, 22, 23, 4, 25, 24, 1, 0]]\n"
     ]
    }
   ],
   "source": [
    "def cust_no_index(cust_no:int, cust_no_list):\n",
    "    '''\n",
    "    converts customer_number to index in data\n",
    "    '''\n",
    "    temp = np.where(cust_no_list == cust_no)\n",
    "    #print (len(temp[0]))\n",
    "    if len(temp[0]) ==1:\n",
    "        return temp[0][0]\n",
    "    else:\n",
    "        return -1\n",
    "\n",
    "def trip_split(route):\n",
    "    trip =[]\n",
    "    temp = [route[0]]\n",
    "    for i in range(1, len(route)):\n",
    "        temp.append(route[i])\n",
    "        if route[i] == 0:\n",
    "            trip.append(temp)\n",
    "            temp = [0]\n",
    "    return trip\n",
    "\n",
    "routes_custno = [[1, 7, 17, 15, 16, 3, 14, 1], [1, 13, 4, 10, 21, 11, 12, 20, 8, 19, 9, 18, 6, 1], [1, 22, 23, 24, 5, 26, 25, 2, 1]]\n",
    "routes = []\n",
    "for route in routes_custno:\n",
    "    routes.append([cust_no_index(i,cust_no) for i in route])\n",
    "# routes =  [[0, 23, 6, 13, 0, 12, 1, 0], [0, 11, 18, 2, 5, 3, 4, 8, 0]]\n",
    "node_list= []\n",
    "for k, route in enumerate(routes):\n",
    "    route = trip_split(route)\n",
    "    route = [i for i in route if len(i) >2]\n",
    "    print(route)\n",
    "    for r, trip in enumerate(route[::-1]):\n",
    "        prev_node = trip[0]\n",
    "        for node in trip[1:]:\n",
    "            model.X[prev_node,node,k,(R-r-1)] = 1\n",
    "            model.Y[node,k,(R-r-1)] = 1\n",
    "            # model.X[prev_node,node,k,(R-r-1)].fix(1)\n",
    "            # model.Y[node,k,(R-r-1)].fix(1)\n",
    "            prev_node = node\n"
   ]
  },
  {
   "cell_type": "markdown",
   "metadata": {},
   "source": [
    "## Solve"
   ]
  },
  {
   "cell_type": "code",
   "execution_count": 44,
   "metadata": {},
   "outputs": [],
   "source": [
    "from gurobipy import GRB\n",
    "def mycallback(cb_m, cb_opt, cb_where):\n",
    "  if cb_where == GRB.Callback.MIPSOL:\n",
    "    cb_opt.cbGetSolution(\n",
    "        vars = [model.X[i,j,k,r] for (i,j) in model.A\n",
    "                              for k in model.K\n",
    "                              for r in model.R]\n",
    "        )\n",
    "    routes = []\n",
    "    for k in range(N_VEHICLES):\n",
    "        node = 0\n",
    "        route = [cust_no[node]]\n",
    "        for r in model.R:\n",
    "            for i in range(len(demands)):\n",
    "                for j in range(len(demands)):\n",
    "                        if node == j:\n",
    "                            continue\n",
    "                        elif np.isclose(model.X[node, j, k,r].value, 1, atol=1e-1):\n",
    "                            route.append(cust_no[j])\n",
    "                            node = j\n",
    "                            break\n",
    "                if node == 0:\n",
    "                    break\n",
    "        routes.append(route)\n",
    "    print ('Route:', routes)"
   ]
  },
  {
   "cell_type": "code",
   "execution_count": 45,
   "metadata": {},
   "outputs": [
    {
     "name": "stdout",
     "output_type": "stream",
     "text": [
      "Read LP format model from file C:\\Users\\caleb\\AppData\\Local\\Temp\\tmpew9pwl4d.pyomo.lp\n",
      "Reading time = 0.05 seconds\n",
      "x1: 7630 rows, 7569 columns, 32868 nonzeros\n",
      "Read MIP start from file C:\\Users\\caleb\\AppData\\Local\\Temp\\tmp4vx36vfj.gurobi.mst\n",
      "Set parameter TimeLimit to value 180\n",
      "Set parameter Threads to value 1\n",
      "Set parameter MIPFocus to value 0\n",
      "Gurobi Optimizer version 12.0.0 build v12.0.0rc1 (win64 - Windows 10.0 (19045.2))\n",
      "\n",
      "CPU model: Intel(R) Core(TM) i7-10510U CPU @ 1.80GHz, instruction set [SSE2|AVX|AVX2]\n",
      "Thread count: 4 physical cores, 8 logical processors, using up to 1 threads\n",
      "\n",
      "Non-default parameters:\n",
      "TimeLimit  180\n",
      "Threads  1\n",
      "\n",
      "Optimize a model with 7630 rows, 7569 columns and 32868 nonzeros\n",
      "Model fingerprint: 0x1513d004\n",
      "Variable types: 1512 continuous, 6057 integer (6057 binary)\n",
      "Coefficient statistics:\n",
      "  Matrix range     [2e-01, 1e+03]\n",
      "  Objective range  [7e-01, 3e+01]\n",
      "  Bounds range     [1e+00, 1e+03]\n",
      "  RHS range        [1e+00, 1e+03]\n",
      "\n",
      "Warning: Completing partial solution with 6001 unfixed non-continuous variables out of 6057\n",
      "User MIP start produced solution with objective 294.64 (0.01s)\n",
      "Loaded user MIP start with objective 294.64\n",
      "\n",
      "Presolve removed 1425 rows and 1263 columns\n",
      "Presolve time: 0.09s\n",
      "Presolved: 6205 rows, 6306 columns, 29760 nonzeros\n",
      "Variable types: 231 continuous, 6075 integer (6057 binary)\n",
      "\n",
      "Root relaxation: objective 3.043600e+02, 901 iterations, 0.04 seconds (0.04 work units)\n",
      "\n",
      "    Nodes    |    Current Node    |     Objective Bounds      |     Work\n",
      " Expl Unexpl |  Obj  Depth IntInf | Incumbent    BestBd   Gap | It/Node Time\n",
      "\n",
      "     0     0  304.36000    0   99  294.64000  304.36000  3.30%     -    0s\n",
      "     0     0  304.36000    0  112  294.64000  304.36000  3.30%     -    0s\n",
      "     0     0  304.36000    0  115  294.64000  304.36000  3.30%     -    0s\n",
      "     0     0  304.36000    0  104  294.64000  304.36000  3.30%     -    0s\n",
      "     0     0  304.34771    0  127  294.64000  304.34771  3.29%     -    0s\n",
      "     0     0  303.29834    0  119  294.64000  303.29834  2.94%     -    0s\n",
      "     0     0  302.67851    0  102  294.64000  302.67851  2.73%     -    0s\n",
      "     0     0  302.50000    0  106  294.64000  302.50000  2.67%     -    0s\n",
      "     0     0  302.50000    0  124  294.64000  302.50000  2.67%     -    0s\n",
      "     0     0  302.50000    0   80  294.64000  302.50000  2.67%     -    1s\n",
      "     0     0  302.50000    0   96  294.64000  302.50000  2.67%     -    1s\n",
      "     0     0  302.50000    0  117  294.64000  302.50000  2.67%     -    1s\n",
      "     0     0  302.50000    0  159  294.64000  302.50000  2.67%     -    1s\n",
      "     0     0  302.50000    0   65  294.64000  302.50000  2.67%     -    1s\n",
      "     0     0  302.50000    0  125  294.64000  302.50000  2.67%     -    1s\n",
      "     0     0  302.50000    0   63  294.64000  302.50000  2.67%     -    1s\n",
      "     0     0  302.50000    0   63  294.64000  302.50000  2.67%     -    1s\n",
      "     0     2  302.47030    0   63  294.64000  302.47030  2.66%     -    1s\n",
      "   135   131  296.69244   53   70  294.64000  302.47030  2.66%  29.3    5s\n",
      "   552   485  301.51500   17   63  294.64000  302.27000  2.59%  33.2   11s\n",
      "   574   500  300.04646   16   71  294.64000  302.23000  2.58%  31.9   15s\n",
      "   661   551  302.22979   13   70  294.64000  302.22979  2.58%  44.5   20s\n",
      "H  714   557                     294.9800000  302.22979  2.46%  44.9   24s\n",
      "   714   559  299.75272   40  115  294.98000  302.22979  2.46%  45.0   25s\n",
      "   931   629  301.73832   28   90  294.98000  302.22979  2.46%  43.4   31s\n",
      "  1026   656  302.17000   12  163  294.98000  302.22979  2.46%  42.6   35s\n",
      "  1108   711  301.61004   53  107  294.98000  302.22784  2.46%  44.0   40s\n",
      "  1339   820  299.15132   36   89  294.98000  302.22685  2.46%  45.8   45s\n",
      "  1497   889  301.18574   25  148  294.98000  302.22685  2.46%  47.9   50s\n",
      "  1685   985  300.98833   44  112  294.98000  302.22685  2.46%  47.4   55s\n",
      "  1834  1059  301.57187   40  167  294.98000  302.22685  2.46%  46.9   62s\n",
      "  1941  1118  298.04586  142   96  294.98000  302.22685  2.46%  45.9   65s\n",
      "  2178  1257  301.11783   55  187  294.98000  302.22685  2.46%  44.5   70s\n",
      "  2471  1496  295.96044   46  140  294.98000  302.22370  2.46%  45.7   75s\n",
      "  2479  1502  300.32941   20  132  294.98000  302.22370  2.46%  46.0   81s\n",
      "  2623  1635  299.91285   73   68  294.98000  302.22321  2.46%  48.2   85s\n",
      "  2900  1847  301.08646   19  158  294.98000  302.20818  2.45%  48.4   90s\n",
      "  3002  1933  300.68308   84  125  294.98000  302.20454  2.45%  47.7   95s\n",
      "  3076  1973  301.65389   21  146  294.98000  302.20454  2.45%  47.5  100s\n",
      "  3228  2095  298.54492   54  121  294.98000  302.20454  2.45%  47.9  105s\n",
      "  3589  2371  301.62072   27  178  294.98000  302.19283  2.45%  46.3  110s\n",
      "  3908  2616  297.89341   35  106  294.98000  302.19183  2.44%  45.6  115s\n",
      "  4094  2693  299.57722   27   81  294.98000  302.19167  2.44%  45.4  120s\n",
      "  4175  2761  297.92888   46   90  294.98000  302.19167  2.44%  45.6  125s\n",
      "  4424  2964  301.95490   17  163  294.98000  302.18000  2.44%  45.6  130s\n",
      "  4668  3161  299.22890   34  147  294.98000  302.17533  2.44%  46.6  135s\n",
      "  4947  3363  296.45516   88   80  294.98000  302.17375  2.44%  47.4  140s\n",
      "  5062  3447  301.91750   17  204  294.98000  302.16500  2.44%  47.7  146s\n",
      "  5101  3486  295.89924   56  180  294.98000  302.16500  2.44%  48.4  150s\n",
      "  5328  3647  296.50287  106  106  294.98000  302.14667  2.43%  48.5  155s\n",
      "  5552  3829  296.17962   83  104  294.98000  302.13000  2.42%  49.4  160s\n",
      "  5809  4038  298.20825   57  104  294.98000  302.11545  2.42%  50.3  165s\n",
      "  5984  4165  300.25429   21  191  294.98000  302.10686  2.42%  50.2  170s\n",
      "  6273  4404  301.07167   20  133  294.98000  302.09250  2.41%  50.8  175s\n",
      "\n",
      "Cutting planes:\n",
      "  Learned: 179\n",
      "  Gomory: 37\n",
      "  Lift-and-project: 16\n",
      "  Cover: 36\n",
      "  Implied bound: 108\n",
      "  Projected implied bound: 19\n",
      "  Clique: 138\n",
      "  MIR: 43\n",
      "  Mixing: 1\n",
      "  StrongCG: 3\n",
      "  Flow cover: 202\n",
      "  GUB cover: 1\n",
      "  Inf proof: 5\n",
      "  Zero half: 33\n",
      "  RLT: 14\n",
      "  Relax-and-lift: 140\n",
      "  BQP: 24\n",
      "\n",
      "Explored 6603 nodes (342386 simplex iterations) in 180.01 seconds (101.32 work units)\n",
      "Thread count was 1 (of 8 available processors)\n",
      "\n",
      "Solution count 2: 294.98 294.64 \n",
      "\n",
      "Time limit reached\n",
      "Best objective 2.949800000000e+02, best bound 3.020600000000e+02, gap 2.4002%\n",
      "WARNING: Loading a SolverResults object with an 'aborted' status, but\n",
      "containing a solution\n"
     ]
    }
   ],
   "source": [
    "TIME_LIMIT = 180\n",
    "THREADS = 1\n",
    "MIPFocus = 0 #gurobi, default is 0, set to 1 to focus more on finding feasible solutions\n",
    "\n",
    "SOVLER_ENGINE = 'gurobi'\n",
    "#solvers glpk  appsi_highs cplex gurobi gurobi_persistent\n",
    "\n",
    "solver = pyo.SolverFactory(SOVLER_ENGINE)\n",
    "\n",
    "if SOVLER_ENGINE == 'cbc':\n",
    "        solver.options['seconds'] = TIME_LIMIT\n",
    "elif SOVLER_ENGINE == 'glpk':\n",
    "        solver.options['tmlim'] = TIME_LIMIT\n",
    "elif SOVLER_ENGINE == 'appsi_highs':\n",
    "        solver.options['time_limit'] = TIME_LIMIT\n",
    "        #solver.options['parallel'] = True\n",
    "        solver.options['threads'] = THREADS\n",
    "elif SOVLER_ENGINE == 'cplex':\n",
    "        solver.options['timelimit'] = TIME_LIMIT\n",
    "        solver.options['threads'] = THREADS\n",
    "elif SOVLER_ENGINE == 'gurobi':\n",
    "        solver.options['timelimit'] = TIME_LIMIT\n",
    "        solver.options['threads'] = THREADS\n",
    "        solver.options['MIPFocus'] = MIPFocus\n",
    "        # solver.options['Method'] = 1\n",
    "        # solver.options['Aggregate'] = 0\n",
    "        # solver.options['presolve'] = 0\n",
    "        # solver.options['DegenMoves'] = 0\n",
    "elif SOVLER_ENGINE == 'gurobi_persistent':\n",
    "        solver.options['timelimit'] = TIME_LIMIT\n",
    "        solver.options['threads'] = THREADS\n",
    "        solver.set_instance(model) # remove model from  solver.solve(tee=True)\n",
    "        solver.options['MIPFocus'] = MIPFocus\n",
    "        solver.set_gurobi_param(\"PoolSolutions\", 500)\n",
    "        solver.set_gurobi_param(\"PoolSearchMode\", 0)\n",
    "        # solver.set_callback(mycallback)\n",
    "# sol = solver.solve(tee= True)\n",
    "sol = solver.solve(model, tee= True, warmstart=True) #, warmstart=True , logfile= 'log.txt'\n",
    "# logfile = FILE+str(N)+'.txt'\n",
    "# sol = solver.solve(model, tee= True, logfile= logfile) #, warmstart=True , logfile= 'log.txt'"
   ]
  },
  {
   "cell_type": "code",
   "execution_count": 46,
   "metadata": {},
   "outputs": [
    {
     "name": "stdout",
     "output_type": "stream",
     "text": [
      "aborted\n",
      "maxTimeLimit\n",
      "294.98\n",
      "Total amount of goods delivered: 330.0\n",
      "Total number of vessels visited: 24.0\n",
      "Total travel time: 350.2\n"
     ]
    }
   ],
   "source": [
    "print(sol.solver.status)\n",
    "print(sol.solver.termination_condition)\n",
    "print (model.obj())\n",
    "\n",
    "print ('Total amount of goods delivered:',sum(\n",
    "        model.X[i, j, k,r].value * np.abs(model.n[i,f])\n",
    "        for (i, j) in model.A\n",
    "        for k in model.K\n",
    "        for r in model.R\n",
    "        for f in model.F\n",
    "        ) )\n",
    "\n",
    "print ('Total number of vessels visited:', sum(model.Y[i,k,r].value\n",
    "                                               for i in model.D\n",
    "                                               for k in model.K\n",
    "                                               for r in model.R))\n",
    "\n",
    "print ('Total travel time:', sum(model.X[i,j,k,r].value * model.t[i,j]\n",
    "                                               for (i,j) in model.A\n",
    "                                               for k in model.K\n",
    "                                               for r in model.R))"
   ]
  },
  {
   "cell_type": "code",
   "execution_count": 47,
   "metadata": {},
   "outputs": [],
   "source": [
    "# model.display()"
   ]
  },
  {
   "cell_type": "code",
   "execution_count": 48,
   "metadata": {},
   "outputs": [],
   "source": [
    "# model.T.pprint()"
   ]
  },
  {
   "cell_type": "code",
   "execution_count": 49,
   "metadata": {},
   "outputs": [],
   "source": [
    "# model.L.pprint()"
   ]
  },
  {
   "cell_type": "markdown",
   "metadata": {},
   "source": [
    "for k in model.K:\n",
    "    for r in model.R:\n",
    "        for f in model.F:\n",
    "            for i in model.D:\n",
    "                if model.U[i,k,r,f].value >0:\n",
    "                    print (model.U[i,k,r,f].value)\n",
    "                    print (i,k,r,f)"
   ]
  },
  {
   "cell_type": "markdown",
   "metadata": {},
   "source": [
    "## Plot"
   ]
  },
  {
   "cell_type": "code",
   "execution_count": 50,
   "metadata": {},
   "outputs": [
    {
     "name": "stdout",
     "output_type": "stream",
     "text": [
      "\n",
      "Vehicle no: 1\n",
      "1  -- 7 R: 2\n",
      "7  -- 6 R: 2\n",
      "6  -- 17 R: 2\n",
      "17  -- 15 R: 2\n",
      "15  -- 16 R: 2\n",
      "16  -- 3 R: 2\n",
      "3  -- 14 R: 2\n",
      "14  -- 1 R: 2\n",
      "\n",
      "Vehicle no: 2\n",
      "1  -- 13 R: 2\n",
      "13  -- 4 R: 2\n",
      "4  -- 10 R: 2\n",
      "10  -- 21 R: 2\n",
      "21  -- 11 R: 2\n",
      "11  -- 12 R: 2\n",
      "12  -- 20 R: 2\n",
      "20  -- 8 R: 2\n",
      "8  -- 9 R: 2\n",
      "9  -- 19 R: 2\n",
      "19  -- 1 R: 2\n",
      "\n",
      "Vehicle no: 3\n",
      "1  -- 22 R: 2\n",
      "22  -- 23 R: 2\n",
      "23  -- 24 R: 2\n",
      "24  -- 5 R: 2\n",
      "5  -- 26 R: 2\n",
      "26  -- 25 R: 2\n",
      "25  -- 2 R: 2\n",
      "2  -- 1 R: 2\n"
     ]
    },
    {
     "data": {
      "image/png": "[encoded data removed]",
      "text/plain": [
       "<Figure size 3000x2500 with 1 Axes>"
      ]
     },
     "metadata": {},
     "output_type": "display_data"
    }
   ],
   "source": [
    "# Choosing colors\n",
    "colors = [\"red\",\"blue\",\"green\",'orange','purple','yellow','black','black']\n",
    "\n",
    "fig, ax = plt.subplots(figsize=[6, 5], dpi=500)\n",
    "# ax.set_aspect('equal')\n",
    "\n",
    "# Now the figure\n",
    "for i, coord in enumerate(coordinates):\n",
    "    x = coord[0]\n",
    "    y= coord[1]\n",
    "    ax.scatter(x,y, color = 'grey')\n",
    "    ax.annotate(cust_no[i], (x,y))\n",
    "\n",
    "#print ('Number of nodes:',N)\n",
    "for k in range(N_VEHICLES):\n",
    "    c = colors[k]\n",
    "    for r in model.R:\n",
    "        for i in range(len(demands)):\n",
    "            for j in range(len(demands)):\n",
    "                if i ==j: \n",
    "                    continue\n",
    "                elif np.isclose(model.X[i, j, k,r].value, 1, atol=1e-1):\n",
    "                    coord1 = coordinates[i]\n",
    "                    coord2 = coordinates[j]\n",
    "                    x1 = coord1[0]\n",
    "                    y1 = coord1[1]\n",
    "                    x2 = coord2[0]\n",
    "                    y2 = coord2[1]\n",
    "                    if i ==0 :\n",
    "                        f = 0\n",
    "                        d = 0\n",
    "                    else: \n",
    "                        demand_shuffled = demands_shuffled[i]\n",
    "                        f= np.nonzero(demand_shuffled)\n",
    "                        d = demand_shuffled[f].astype(int)[0]\n",
    "                        f = f[0][0]\n",
    "\n",
    "                    ax.scatter(x1,y1, color = c)\n",
    "\n",
    "                    # ax.annotate((i,d), (x1,y1))\n",
    "                    ax.plot((x1,x2), (y1,y2), color=c, label= k+1)\n",
    "#ax.legend()\n",
    "\n",
    "for k in range(N_VEHICLES):\n",
    "    print(\"\\nVehicle no:\", k+1)\n",
    "    node = 0\n",
    "    #print (node, end ='')\n",
    "    for r in model.R:\n",
    "        for i in range(len(demands)):\n",
    "            for j in range(len(demands)):\n",
    "                    if node == j:\n",
    "                        continue\n",
    "                    elif np.isclose(model.X[node, j, k,r].value, 1, atol=1e-1):\n",
    "                        print (cust_no[node], \" --\", cust_no[j], end =' ')\n",
    "                        print (\"R:\",r)\n",
    "                        node = j\n",
    "                        break\n",
    "            if node == 0:\n",
    "                break\n",
    "    #print (\"\\n\")"
   ]
  },
  {
   "cell_type": "markdown",
   "metadata": {},
   "source": [
    "## Checking loading constraints"
   ]
  },
  {
   "cell_type": "code",
   "execution_count": 51,
   "metadata": {},
   "outputs": [
    {
     "name": "stdout",
     "output_type": "stream",
     "text": [
      "\n",
      " Vehicle no: 1\n",
      "Max Capacity of vehicle: [50 50 50 50 50]\n",
      "\n",
      " Trip: 0\n",
      "Total loaded onto vehicle 0 : 0.0\n",
      "Vehicle Load at depot [50.0, 50.0, 50.0, 50.0, 50.0]\n",
      "Remaining Vehicle load [50.0, 50.0, 50.0, 50.0, 50.0]\n",
      "Total delviered: [0. 0. 0. 0. 0.]\n",
      "\n",
      " Trip: 1\n",
      "Total loaded onto vehicle 1 : 0.0\n",
      "Vehicle Load at depot [50.0, 50.0, 50.0, 50.0, 50.0]\n",
      "Remaining Vehicle load [50.0, 50.0, 50.0, 50.0, 50.0]\n",
      "Total delviered: [0. 0. 0. 0. 0.]\n",
      "\n",
      " Trip: 2\n",
      "Total loaded onto vehicle 2 : 0.0\n",
      "Vehicle Load at depot [50.0, 50.0, 50.0, 50.0, 50.0]\n",
      "Cust is: 1\n",
      "Vehicle load [50.0, 50.0, 50.0, 50.0, 50.0]\n",
      "Load at node: [0 0 0 0 0]\n",
      "Cust is: 7\n",
      "Vehicle load [50. 50. 50. 50. 50.]\n",
      "Load at node: [0 3 0 0 0]\n",
      "Cust is: 6\n",
      "Vehicle load [50. 47. 50. 50. 50.]\n",
      "Load at node: [26  0  0  0  0]\n",
      "Cust is: 17\n",
      "Vehicle load [24. 47. 50. 50. 50.]\n",
      "Load at node: [ 0  0  0  0 19]\n",
      "Cust is: 15\n",
      "Vehicle load [24. 47. 50. 50. 31.]\n",
      "Load at node: [ 0  0  0 20  0]\n",
      "Cust is: 16\n",
      "Vehicle load [24. 47. 50. 30. 31.]\n",
      "Load at node: [0 8 0 0 0]\n",
      "Cust is: 3\n",
      "Vehicle load [24. 39. 50. 30. 31.]\n",
      "Load at node: [0 0 0 0 7]\n",
      "Cust is: 14\n",
      "Vehicle load [24. 39. 50. 30. 24.]\n",
      "Load at node: [23  0  0  0  0]\n",
      "Remaining Vehicle load [1.0, 39.0, 50.0, 30.0, 24.0]\n",
      "Total delviered: [49. 11.  0. 20. 26.]\n",
      "\n",
      " Vehicle no: 2\n",
      "Max Capacity of vehicle: [50 50 50 50 50]\n",
      "\n",
      " Trip: 0\n",
      "Total loaded onto vehicle 0 : 0.0\n",
      "Vehicle Load at depot [50.0, 50.0, 50.0, 50.0, 50.0]\n",
      "Remaining Vehicle load [50.0, 50.0, 50.0, 50.0, 50.0]\n",
      "Total delviered: [0. 0. 0. 0. 0.]\n",
      "\n",
      " Trip: 1\n",
      "Total loaded onto vehicle 1 : 0.0\n",
      "Vehicle Load at depot [50.0, 50.0, 50.0, 50.0, 50.0]\n",
      "Remaining Vehicle load [50.0, 50.0, 50.0, 50.0, 50.0]\n",
      "Total delviered: [0. 0. 0. 0. 0.]\n",
      "\n",
      " Trip: 2\n",
      "Total loaded onto vehicle 2 : 0.0\n",
      "Vehicle Load at depot [50.0, 50.0, 50.0, 50.0, 50.0]\n",
      "Cust is: 1\n",
      "Vehicle load [50.0, 50.0, 50.0, 50.0, 50.0]\n",
      "Load at node: [0 0 0 0 0]\n",
      "Cust is: 13\n",
      "Vehicle load [50. 50. 50. 50. 50.]\n",
      "Load at node: [ 0  0  0 19  0]\n",
      "Cust is: 4\n",
      "Vehicle load [50. 50. 50. 31. 50.]\n",
      "Load at node: [ 0  0  0  0 13]\n",
      "Cust is: 10\n",
      "Vehicle load [50. 50. 50. 31. 37.]\n",
      "Load at node: [ 0  0 16  0  0]\n",
      "Cust is: 21\n",
      "Vehicle load [50. 50. 34. 31. 37.]\n",
      "Load at node: [0 0 0 9 0]\n",
      "Cust is: 11\n",
      "Vehicle load [50. 50. 34. 22. 37.]\n",
      "Load at node: [ 0  0  0 16  0]\n",
      "Cust is: 12\n",
      "Vehicle load [50. 50. 34.  6. 37.]\n",
      "Load at node: [ 0 12  0  0  0]\n",
      "Cust is: 20\n",
      "Vehicle load [50. 38. 34.  6. 37.]\n",
      "Load at node: [17  0  0  0  0]\n",
      "Cust is: 8\n",
      "Vehicle load [33. 38. 34.  6. 37.]\n",
      "Load at node: [5 0 0 0 0]\n",
      "Cust is: 9\n",
      "Vehicle load [28. 38. 34.  6. 37.]\n",
      "Load at node: [0 0 0 0 9]\n",
      "Cust is: 19\n",
      "Vehicle load [28. 38. 34.  6. 28.]\n",
      "Load at node: [ 0  0 12  0  0]\n",
      "Remaining Vehicle load [28.0, 38.0, 22.0, 6.0, 28.0]\n",
      "Total delviered: [22. 12. 28. 44. 22.]\n",
      "\n",
      " Vehicle no: 3\n",
      "Max Capacity of vehicle: [50 50 50 50 50]\n",
      "\n",
      " Trip: 0\n",
      "Total loaded onto vehicle 0 : 0.0\n",
      "Vehicle Load at depot [50.0, 50.0, 50.0, 50.0, 50.0]\n",
      "Remaining Vehicle load [50.0, 50.0, 50.0, 50.0, 50.0]\n",
      "Total delviered: [0. 0. 0. 0. 0.]\n",
      "\n",
      " Trip: 1\n",
      "Total loaded onto vehicle 1 : 0.0\n",
      "Vehicle Load at depot [50.0, 50.0, 50.0, 50.0, 50.0]\n",
      "Remaining Vehicle load [50.0, 50.0, 50.0, 50.0, 50.0]\n",
      "Total delviered: [0. 0. 0. 0. 0.]\n",
      "\n",
      " Trip: 2\n",
      "Total loaded onto vehicle 2 : 0.0\n",
      "Vehicle Load at depot [50.0, 50.0, 50.0, 50.0, 50.0]\n",
      "Cust is: 1\n",
      "Vehicle load [50.0, 50.0, 50.0, 50.0, 50.0]\n",
      "Load at node: [0 0 0 0 0]\n",
      "Cust is: 22\n",
      "Vehicle load [50. 50. 50. 50. 50.]\n",
      "Load at node: [ 0 11  0  0  0]\n",
      "Cust is: 23\n",
      "Vehicle load [50. 39. 50. 50. 50.]\n",
      "Load at node: [ 0  0 18  0  0]\n",
      "Cust is: 24\n",
      "Vehicle load [50. 39. 32. 50. 50.]\n",
      "Load at node: [ 0  0  0 29  0]\n",
      "Cust is: 5\n",
      "Vehicle load [50. 39. 32. 21. 50.]\n",
      "Load at node: [ 0  0  0 19  0]\n",
      "Cust is: 26\n",
      "Vehicle load [50. 39. 32.  2. 50.]\n",
      "Load at node: [6 0 0 0 0]\n",
      "Cust is: 25\n",
      "Vehicle load [44. 39. 32.  2. 50.]\n",
      "Load at node: [0 3 0 0 0]\n",
      "Cust is: 2\n",
      "Vehicle load [44. 36. 32.  2. 50.]\n",
      "Load at node: [10  0  0  0  0]\n",
      "Remaining Vehicle load [34.0, 36.0, 32.0, 2.0, 50.0]\n",
      "Total delviered: [16. 14. 18. 48.  0.]\n"
     ]
    }
   ],
   "source": [
    "for k in range(N_VEHICLES):\n",
    "    print('\\n',\"Vehicle no:\", k+1)\n",
    "    print(\"Max Capacity of vehicle:\", vehicle_capacities[k])\n",
    "    node = 0\n",
    "    #print (node, end ='')\n",
    "    for r in model.R:\n",
    "        print ('\\n', 'Trip:', r)\n",
    "        #for f in model.F:\n",
    "        print ('Total loaded onto vehicle', r,':',model.S[k,r].value)\n",
    "        load = [model.L[0,k,r,f].value for f in model.F]\n",
    "        print ('Vehicle Load at depot', [model.L[0,k,r,f].value for f in model.F])\n",
    "        total = np.zeros(DEMAND_TYPES)\n",
    "        for i in range(len(demands)):\n",
    "            for j in range(len(demands)):\n",
    "                    if node == j:\n",
    "                        continue\n",
    "                    elif np.isclose(model.X[node, j, k,r].value, 1, atol=1e-1):\n",
    "                        \n",
    "                        print ('Cust is:', cust_no[node])\n",
    "                    \n",
    "                        print ('Vehicle load', load)\n",
    "                        print ('Load at node:', demands_shuffled[node])\n",
    "                        load -= demands_shuffled[node]\n",
    "                        total += demands_shuffled[node]\n",
    "                        node = j\n",
    "                        break\n",
    "            if node ==0:\n",
    "                 break\n",
    "        print ('Remaining Vehicle load', [model.L[N+1,k,r,f].value for f in model.F])\n",
    "        print('Total delviered:',total)\n",
    "    '''\n",
    "    print ('Load at node:', nodes[j])\n",
    "    print ('Load after visiting node',node,':',model.L[j,k].value)\n",
    "    print ('\\n')\n",
    "    '''"
   ]
  },
  {
   "cell_type": "markdown",
   "metadata": {},
   "source": [
    "## Checking time constraints"
   ]
  },
  {
   "cell_type": "code",
   "execution_count": 52,
   "metadata": {},
   "outputs": [
    {
     "name": "stdout",
     "output_type": "stream",
     "text": [
      "Vehicle no: 1\n",
      "\n",
      " Trip no: 0\n",
      "Total load of trip 0 : 0.0\n",
      "Time at end, 0 : 0.0\n",
      "\n",
      " Trip no: 1\n",
      "Total load of trip 1 : 0.0\n",
      "Time at end, 1 : 0.0\n",
      "\n",
      " Trip no: 2\n",
      "Total load of trip 2 : 0.0\n",
      "Time window at cust: 1 : [ 0 1000 ]\n",
      "Time reach cust: 1 : 0.0 \n",
      "\n",
      "Service time: 0\n",
      "Travel time from 1 to 7 : 11.1 \n",
      "\n",
      "Time window at cust: 7 : [ 245 684 ]\n",
      "Time reach cust: 7 : 245.0 \n",
      "\n",
      "Service time: 10\n",
      "Travel time from 7 to 6 : 10.0 \n",
      "\n",
      "Time window at cust: 6 : [ 20 610 ]\n",
      "Time reach cust: 6 : 443.0 \n",
      "\n",
      "Service time: 10\n",
      "Travel time from 6 to 17 : 11.1 \n",
      "\n",
      "Time window at cust: 17 : [ 102 543 ]\n",
      "Time reach cust: 17 : 464.1 \n",
      "\n",
      "Service time: 10\n",
      "Travel time from 17 to 15 : 11.1 \n",
      "\n",
      "Time window at cust: 15 : [ 32 694 ]\n",
      "Time reach cust: 15 : 485.2 \n",
      "\n",
      "Service time: 10\n",
      "Travel time from 15 to 16 : 15.8 \n",
      "\n",
      "Time window at cust: 16 : [ 30 519 ]\n",
      "Time reach cust: 16 : 511.0 \n",
      "\n",
      "Service time: 10\n",
      "Travel time from 16 to 3 : 13.0 \n",
      "\n",
      "Time window at cust: 3 : [ 18 534 ]\n",
      "Time reach cust: 3 : 534.0 \n",
      "\n",
      "Service time: 10\n",
      "Travel time from 3 to 14 : 9.4 \n",
      "\n",
      "Time window at cust: 14 : [ 462 978 ]\n",
      "Time reach cust: 14 : 553.4 \n",
      "\n",
      "Service time: 10\n",
      "Travel time from 14 to 1 : 11.1 \n",
      "\n",
      "Time at end, 2 : 1000.0\n",
      "Vehicle no: 2\n",
      "\n",
      " Trip no: 0\n",
      "Total load of trip 0 : 0.0\n",
      "Time at end, 0 : 0.0\n",
      "\n",
      " Trip no: 1\n",
      "Total load of trip 1 : 0.0\n",
      "Time at end, 1 : 0.0\n",
      "\n",
      " Trip no: 2\n",
      "Total load of trip 2 : 0.0\n",
      "Time window at cust: 1 : [ 0 1000 ]\n",
      "Time reach cust: 1 : 0.0 \n",
      "\n",
      "Service time: 0\n",
      "Travel time from 1 to 13 : 15.0 \n",
      "\n",
      "Time window at cust: 13 : [ 50 523 ]\n",
      "Time reach cust: 13 : 356.9 \n",
      "\n",
      "Service time: 10\n",
      "Travel time from 13 to 4 : 11.1 \n",
      "\n",
      "Time window at cust: 4 : [ 378 733 ]\n",
      "Time reach cust: 4 : 378.0 \n",
      "\n",
      "Service time: 10\n",
      "Travel time from 4 to 10 : 15.0 \n",
      "\n",
      "Time window at cust: 10 : [ 231 666 ]\n",
      "Time reach cust: 10 : 403.0 \n",
      "\n",
      "Service time: 10\n",
      "Travel time from 10 to 21 : 11.1 \n",
      "\n",
      "Time window at cust: 21 : [ 418 829 ]\n",
      "Time reach cust: 21 : 424.1 \n",
      "\n",
      "Service time: 10\n",
      "Travel time from 21 to 11 : 15.8 \n",
      "\n",
      "Time window at cust: 11 : [ 430 779 ]\n",
      "Time reach cust: 11 : 449.9 \n",
      "\n",
      "Service time: 10\n",
      "Travel time from 11 to 12 : 11.1 \n",
      "\n",
      "Time window at cust: 12 : [ 33 511 ]\n",
      "Time reach cust: 12 : 471.0 \n",
      "\n",
      "Service time: 10\n",
      "Travel time from 12 to 20 : 7.0 \n",
      "\n",
      "Time window at cust: 20 : [ 95 552 ]\n",
      "Time reach cust: 20 : 488.0 \n",
      "\n",
      "Service time: 10\n",
      "Travel time from 20 to 8 : 11.1 \n",
      "\n",
      "Time window at cust: 8 : [ 172 569 ]\n",
      "Time reach cust: 8 : 509.1 \n",
      "\n",
      "Service time: 10\n",
      "Travel time from 8 to 9 : 12.2 \n",
      "\n",
      "Time window at cust: 9 : [ 245 640 ]\n",
      "Time reach cust: 9 : 531.3 \n",
      "\n",
      "Service time: 10\n",
      "Travel time from 9 to 19 : 10.4 \n",
      "\n",
      "Time window at cust: 19 : [ 229 582 ]\n",
      "Time reach cust: 19 : 582.0 \n",
      "\n",
      "Service time: 10\n",
      "Travel time from 19 to 1 : 15.8 \n",
      "\n",
      "Time at end, 2 : 1000.0\n",
      "Vehicle no: 3\n",
      "\n",
      " Trip no: 0\n",
      "Total load of trip 0 : 0.0\n",
      "Time at end, 0 : 0.0\n",
      "\n",
      " Trip no: 1\n",
      "Total load of trip 1 : 0.0\n",
      "Time at end, 1 : 0.0\n",
      "\n",
      " Trip no: 2\n",
      "Total load of trip 2 : 0.0\n",
      "Time window at cust: 1 : [ 0 1000 ]\n",
      "Time reach cust: 1 : 0.0 \n",
      "\n",
      "Service time: 0\n",
      "Travel time from 1 to 22 : 18.0 \n",
      "\n",
      "Time window at cust: 22 : [ 36 509 ]\n",
      "Time reach cust: 22 : 226.0 \n",
      "\n",
      "Service time: 10\n",
      "Travel time from 22 to 23 : 10.0 \n",
      "\n",
      "Time window at cust: 23 : [ 246 657 ]\n",
      "Time reach cust: 23 : 246.0 \n",
      "\n",
      "Service time: 10\n",
      "Travel time from 23 to 24 : 11.1 \n",
      "\n",
      "Time window at cust: 24 : [ 36 514 ]\n",
      "Time reach cust: 24 : 267.1 \n",
      "\n",
      "Service time: 10\n",
      "Travel time from 24 to 5 : 15.0 \n",
      "\n",
      "Time window at cust: 5 : [ 477 965 ]\n",
      "Time reach cust: 5 : 477.0 \n",
      "\n",
      "Service time: 10\n",
      "Travel time from 5 to 26 : 10.0 \n",
      "\n",
      "Time window at cust: 26 : [ 438 956 ]\n",
      "Time reach cust: 26 : 911.3 \n",
      "\n",
      "Service time: 10\n",
      "Travel time from 26 to 25 : 15.0 \n",
      "\n",
      "Time window at cust: 25 : [ 435 960 ]\n",
      "Time reach cust: 25 : 936.3 \n",
      "\n",
      "Service time: 10\n",
      "Travel time from 25 to 2 : 27.7 \n",
      "\n",
      "Time window at cust: 2 : [ 451 974 ]\n",
      "Time reach cust: 2 : 974.0 \n",
      "\n",
      "Service time: 10\n",
      "Travel time from 2 to 1 : 15.2 \n",
      "\n",
      "Time at end, 2 : 1000.0\n"
     ]
    }
   ],
   "source": [
    "for k in range(N_VEHICLES):\n",
    "    print(\"Vehicle no:\", k+1)\n",
    "    node = 0\n",
    "    #print (node, end ='')\n",
    "    for r in model.R:\n",
    "        print ('\\n', 'Trip no:', r)\n",
    "        print ('Total load of trip', r,':',model.S[k,r].value)\n",
    "        for i in range(len(demands)):\n",
    "            for j in range(len(demands)):\n",
    "                    if node == j:\n",
    "                        continue\n",
    "                    elif np.isclose(model.X[node, j, k,r].value, 1, atol=1e-1):\n",
    "                        print ('Time window at cust:',cust_no[node],': [', model.a[node], model.b[node], ']')\n",
    "                        print ('Time reach cust:',cust_no[node],':', model.T[node,k,r].value, '\\n')\n",
    "                        print ('Service time:', model.s[node])\n",
    "                        print ('Travel time from', cust_no[node],'to', cust_no[j] ,':', model.t[node,j], '\\n')\n",
    "                        node = j\n",
    "                        break\n",
    "            if node ==0:\n",
    "                 break\n",
    "        print ('Time at end,',r,':', model.T[N+1,k,r].value)\n",
    "        #print ('Total load of trip', r,':',model.S[k,r].value)\n",
    "        #print ('Start time at next trip,',r+1,':', model.T[0,k,r+1].value)"
   ]
  },
  {
   "cell_type": "markdown",
   "metadata": {},
   "source": [
    "## Schedules per vessel"
   ]
  },
  {
   "cell_type": "code",
   "execution_count": 53,
   "metadata": {},
   "outputs": [
    {
     "data": {
      "text/plain": [
       "\"\\nfor n in range(len(demands)):\\n    if sum(model.Y[n,k,r].value for k in range(N_VEHICLES) for r in range(R)) != 1:\\n        start_time_at_node = model.a[n]\\n        service_time_at_node = model.b[n] - model.a[n]\\n        ax.add_patch(plt.Rectangle((4-0.25, start_time_at_node), 0.5, service_time_at_node, edgecolor='green',                                            linewidth=2,facecolor='none'))\\n        ax.text(4-0.125, start_time_at_node, n, color = 'black', fontsize = 8)\\n        \""
      ]
     },
     "execution_count": 53,
     "metadata": {},
     "output_type": "execute_result"
    },
    {
     "data": {
      "image/png": "[encoded data removed]",
      "text/plain": [
       "<Figure size 500x2000 with 1 Axes>"
      ]
     },
     "metadata": {},
     "output_type": "display_data"
    }
   ],
   "source": [
    "fig, ax = plt.subplots(figsize = (5,20))\n",
    "ax.set_xlim(0, N_VEHICLES + 2)\n",
    "ax.set_ylim(START_TIME, END_TIME)\n",
    "ax.set_xticks(np.arange(1, N_VEHICLES + 1))\n",
    "#ax.set_yticks([i for i in range(0,int(yaxislength)+1,43200)])\n",
    "for k in range(N_VEHICLES):\n",
    "    ax.plot([k+1, k+1], [START_TIME,END_TIME], linewidth=2, color='b')  #vessel docking period\n",
    "    for r in range(R): #range(R):\n",
    "        for i in range(len(demands)):\n",
    "            for j in range(len(demands)):\n",
    "                if i ==j: \n",
    "                    continue\n",
    "                elif np.isclose(model.X[i, j, k,r].value, 1, atol=1e-1):\n",
    "                    \n",
    "                    time_start_at_node = model.T[i,k,r].value\n",
    "                    if i !=0: #servicing customers\n",
    "                        service_time_at_node = model.s[i]\n",
    "                        ax.add_patch(plt.Rectangle((k+1-0.25, time_start_at_node), 0.5, service_time_at_node, edgecolor='black',\\\n",
    "                                        linewidth=2,facecolor='none'))\n",
    "                        ax.text(k+1-0.125, time_start_at_node+(service_time_at_node/2), cust_no[i], color = 'black', fontsize = 8)\n",
    "                    else: #starting at terminal\n",
    "                        service_time_at_node = model.S[k,r].value\n",
    "                        ax.add_patch(plt.Rectangle((k+1-0.25, time_start_at_node), 0.5, service_time_at_node, edgecolor='red',\\\n",
    "                                        linewidth=2,facecolor='none'))\n",
    "                    travelling_time = model.t[i,j]\n",
    "                    ax.add_patch(plt.Rectangle((k+1-0.25, time_start_at_node+service_time_at_node), 0.5, travelling_time, edgecolor='orange',\\\n",
    "                                        linewidth=2,facecolor='none'))\n",
    "\n",
    "for k in range(N_VEHICLES):\n",
    "    for r in range(R):\n",
    "        time_start_at_node = model.T[0,k,r].value\n",
    "        service_time_at_node = model.S[k,r].value\n",
    "        ax.add_patch(plt.Rectangle((k+1-0.25, time_start_at_node), 0.5, service_time_at_node, edgecolor='red',\\\n",
    "                        linewidth=2,facecolor='none'))\n",
    "                        \n",
    "'''\n",
    "for n in range(len(demands)):\n",
    "    if sum(model.Y[n,k,r].value for k in range(N_VEHICLES) for r in range(R)) != 1:\n",
    "        start_time_at_node = model.a[n]\n",
    "        service_time_at_node = model.b[n] - model.a[n]\n",
    "        ax.add_patch(plt.Rectangle((4-0.25, start_time_at_node), 0.5, service_time_at_node, edgecolor='green',\\\n",
    "                                            linewidth=2,facecolor='none'))\n",
    "        ax.text(4-0.125, start_time_at_node, n, color = 'black', fontsize = 8)\n",
    "        '''"
   ]
  },
  {
   "cell_type": "markdown",
   "metadata": {},
   "source": [
    "## Solution Pool"
   ]
  },
  {
   "cell_type": "code",
   "execution_count": 54,
   "metadata": {},
   "outputs": [],
   "source": [
    "SOLUTION_POOL = False\n",
    "if SOVLER_ENGINE == 'gurobi_persistent':\n",
    "    SOLUTION_POOL = True\n",
    "else:\n",
    "    SOLUTION_POOL = False"
   ]
  },
  {
   "cell_type": "code",
   "execution_count": 55,
   "metadata": {},
   "outputs": [],
   "source": [
    "if SOLUTION_POOL:\n",
    "    # Print number of solutions stored\n",
    "    nSolutions = solver.get_model_attr(\"SolCount\")\n",
    "    print('Number of solutions found: ' + str(nSolutions))\n",
    "\n",
    "    # Print objective values of solutions\n",
    "    for e in range(nSolutions):\n",
    "        solver.set_gurobi_param(\"SolutionNumber\", e)\n",
    "        print('%g ' % solver.get_model_attr(\"PoolObjVal\"), end='')\n",
    "    print('')"
   ]
  },
  {
   "cell_type": "code",
   "execution_count": 56,
   "metadata": {},
   "outputs": [],
   "source": [
    "if SOLUTION_POOL:\n",
    "    # Print variable values of different solutions\n",
    "    solver.set_gurobi_param(\"SolutionNumber\", 0)\n",
    "    values = solver.get_model_attr('Xn')\n",
    "    names = solver.get_model_attr('VarName')\n",
    "    obj = solver.get_model_attr('PoolObjVal')\n",
    "    print(obj)"
   ]
  },
  {
   "cell_type": "code",
   "execution_count": 57,
   "metadata": {},
   "outputs": [
    {
     "ename": "NameError",
     "evalue": "name 'values' is not defined",
     "output_type": "error",
     "traceback": [
      "\u001b[1;31m---------------------------------------------------------------------------\u001b[0m",
      "\u001b[1;31mNameError\u001b[0m                                 Traceback (most recent call last)",
      "Cell \u001b[1;32mIn[57], line 20\u001b[0m\n\u001b[0;32m     16\u001b[0m     Z_variable \u001b[38;5;241m=\u001b[39m values[Y_end:]\n\u001b[0;32m     18\u001b[0m     \u001b[38;5;28;01mreturn\u001b[39;00m L_variable, L_inital_variable,S_variable,T_variable,X_variable,Y_variable,Z_variable\n\u001b[1;32m---> 20\u001b[0m L_variable, L_inital_variable,S_variable,T_variable,X_variable,Y_variable,Z_variable \u001b[38;5;241m=\u001b[39m variable_spliting(model,\u001b[43mvalues\u001b[49m)\n",
      "\u001b[1;31mNameError\u001b[0m: name 'values' is not defined"
     ]
    }
   ],
   "source": [
    "def variable_spliting(model,values):\n",
    "    #this is iffy\n",
    "    L_end = len(model.N1) * len(model.K) * len(model.R) * len(model.F)\n",
    "    L_initial_end =  L_end + len(model.K) * len(model.F)\n",
    "    S_end = L_initial_end + len(model.K) * len(model.R)\n",
    "    T_end = S_end + len(model.N1) * len(model.K) * len(model.R)\n",
    "    X_end = T_end + len(model.A) * len(model.K) * len(model.R)\n",
    "    Y_end = X_end + len(model.N) * len(model.K) * len(model.R)\n",
    "\n",
    "    L_variable = values[0:L_end]\n",
    "    L_inital_variable = values[L_end:L_initial_end]\n",
    "    S_variable = values[L_initial_end:S_end]\n",
    "    T_variable = values[S_end:T_end]\n",
    "    X_variable = values[T_end:X_end]\n",
    "    Y_variable = values[X_end:Y_end]\n",
    "    Z_variable = values[Y_end:]\n",
    "\n",
    "    return L_variable, L_inital_variable,S_variable,T_variable,X_variable,Y_variable,Z_variable\n",
    "\n",
    "L_variable, L_inital_variable,S_variable,T_variable,X_variable,Y_variable,Z_variable = variable_spliting(model,values)"
   ]
  },
  {
   "cell_type": "code",
   "execution_count": null,
   "metadata": {},
   "outputs": [],
   "source": [
    "def variable_dictionary(model,L_variable, L_inital_variable,S_variable,T_variable,X_variable,Y_variable,Z_variable):\n",
    "    S_dict = {}\n",
    "    count_s = 0\n",
    "    for k in model.K:\n",
    "        for r in model.R:\n",
    "                S_dict[k,r] = S_variable[count_s]\n",
    "                count_s +=1\n",
    "    T_dict = {}\n",
    "    count_t = 0\n",
    "    for i in model.N1:\n",
    "        for k in model.K:\n",
    "            for r in model.R:\n",
    "                T_dict[i,k,r] = T_variable[count_t]\n",
    "                count_t +=1\n",
    "\n",
    "    X_dict = {}\n",
    "    count_x = 0\n",
    "    for i,j in model.A:\n",
    "        for k in model.K:\n",
    "            for r in model.R:\n",
    "                X_dict[i,j,k,r] = X_variable[count_x]\n",
    "                count_x +=1\n",
    "\n",
    "    Y_dict = {}\n",
    "    count_y = 0\n",
    "    for i in model.N:\n",
    "        for k in model.K:\n",
    "            for r in model.R:\n",
    "                Y_dict[i,k,r] = Y_variable[count_y]\n",
    "                count_y +=1\n",
    "\n",
    "    Z_dict = {}\n",
    "    count_z = 0\n",
    "    for k in model.K:\n",
    "        for r in model.R:\n",
    "            for f in model.F:\n",
    "                Z_dict[k,r,f] = Z_variable[count_z]\n",
    "                count_z +=1\n",
    "    \n",
    "    return S_dict,T_dict,X_dict,Y_dict,Z_dict\n",
    "\n",
    "S_dict,T_dict,X_dict,Y_dict,Z_dict = variable_dictionary(model,L_variable, L_inital_variable,S_variable,T_variable,X_variable,Y_variable,Z_variable)"
   ]
  },
  {
   "cell_type": "code",
   "execution_count": null,
   "metadata": {},
   "outputs": [],
   "source": [
    "if SOLUTION_POOL:\n",
    "    print ('Total amount of goods delivered:',sum(\n",
    "        X_dict[i, j, k,r] * np.abs(model.n[i,f])\n",
    "        for (i, j) in model.A\n",
    "        for k in model.K\n",
    "        for r in model.R\n",
    "        for f in model.F\n",
    "        ) )\n",
    "\n",
    "    print ('Total number of vessels visited:', sum(Y_dict[i,k,r]\n",
    "                                                for i in model.D\n",
    "                                                for k in model.K\n",
    "                                                for r in model.R))\n",
    "\n",
    "    print ('Total travel time:', sum( X_dict[i, j, k,r] * model.t[i,j]\n",
    "                                                for (i,j) in model.A\n",
    "                                                for k in model.K\n",
    "                                                for r in model.R))"
   ]
  },
  {
   "cell_type": "code",
   "execution_count": null,
   "metadata": {},
   "outputs": [],
   "source": [
    "if SOLUTION_POOL:\n",
    "    # Choosing colors\n",
    "    cmap = mpl.colormaps[\"Dark2\"]\n",
    "    #colors = cycle(cmap.colors)\n",
    "    colors = [\"red\",\"blue\",\"green\",'orange','purple','yellow','black','black']\n",
    "\n",
    "\n",
    "    # Now the figure\n",
    "    fig, ax = plt.subplots(figsize=[6, 5], dpi=300)\n",
    "\n",
    "    for i, coord in enumerate(coordinates):\n",
    "        x = coord[0]\n",
    "        y= coord[1]\n",
    "        ax.scatter(x,y, color = 'grey')\n",
    "        ax.annotate(cust_no[i], (x,y))\n",
    "    #print ('Number of nodes:',N)\n",
    "    for k in range(N_VEHICLES):\n",
    "        c = colors[k]\n",
    "        for r in model.R:\n",
    "            for i in range(len(demands)):\n",
    "                for j in range(len(demands)):\n",
    "                    if i ==j: \n",
    "                        continue\n",
    "                    elif np.isclose(X_dict[i, j, k,r], 1, atol=1e-1):\n",
    "                        coord1 = coordinates[i]\n",
    "                        coord2 = coordinates[j]\n",
    "                        x1 = coord1[0]\n",
    "                        y1 = coord1[1]\n",
    "                        x2 = coord2[0]\n",
    "                        y2 = coord2[1]\n",
    "                        if i ==0 :\n",
    "                            f = 0\n",
    "                            d = 0\n",
    "                        else: \n",
    "                            demand_shuffled = demands_shuffled[i]\n",
    "                            f= np.nonzero(demand_shuffled)\n",
    "                            d = demand_shuffled[f].astype(int)[0]\n",
    "                            f = f[0][0]\n",
    "\n",
    "                        ax.scatter(x1,y1, color = c)\n",
    "\n",
    "                        # ax.annotate((i,d), (x1,y1))\n",
    "                        ax.plot((x1,x2), (y1,y2), color=c, label= k+1)\n",
    "    #ax.legend()\n",
    "\n",
    "    for k in range(N_VEHICLES):\n",
    "        print(\"\\nVehicle no:\", k+1)\n",
    "        node = 0\n",
    "        #print (node, end ='')\n",
    "        for r in model.R:\n",
    "            for i in range(len(demands)):\n",
    "                for j in range(len(demands)):\n",
    "                        if node == j:\n",
    "                            continue\n",
    "                        elif np.isclose(X_dict[node, j, k,r], 1, atol=1e-1):\n",
    "                            print (cust_no[node], \" --\", cust_no[j], end =' ')\n",
    "                            print (\"R:\",r)\n",
    "                            node = j\n",
    "                            break\n",
    "                if node == 0:\n",
    "                    break\n",
    "        #print (\"\\n\")\n",
    "    plt.show()"
   ]
  },
  {
   "cell_type": "code",
   "execution_count": null,
   "metadata": {},
   "outputs": [],
   "source": [
    "if SOLUTION_POOL:\n",
    "    FILE_PATH = 'images/'\n",
    "    IMAGE_NAME = 'test'\n",
    "    for sol_index in range(nSolutions-1,-1,-1):\n",
    "        solver.set_gurobi_param(\"SolutionNumber\", sol_index)\n",
    "        values = solver.get_model_attr('Xn')\n",
    "        names = solver.get_model_attr('VarName')\n",
    "        obj = solver.get_model_attr('PoolObjVal')\n",
    "        \n",
    "        L_variable, L_inital_variable,S_variable,T_variable,X_variable,Y_variable,Z_variable = variable_spliting(model,values)\n",
    "\n",
    "        S_dict,T_dict,X_dict,Y_dict,Z_dict = variable_dictionary(model,L_variable, L_inital_variable,S_variable,T_variable, X_variable,Y_variable,Z_variable)\n",
    "        \n",
    "        colors = [\"red\",\"blue\",\"green\",'orange','purple','yellow','black','black']\n",
    "\n",
    "        total_goods = sum(\n",
    "            X_dict[i, j, k,r] * np.abs(model.n[i,f])\n",
    "            for (i, j) in model.A\n",
    "            for k in model.K\n",
    "            for r in model.R\n",
    "            for f in model.F\n",
    "            )\n",
    "        vessels_visited = sum(Y_dict[i,k,r] for i in model.D for k in model.K for r in model.R) \n",
    "\n",
    "        total_travel_time = sum( X_dict[i, j, k,r] * model.t[i,j]\n",
    "                                                for (i,j) in model.A\n",
    "                                                for k in model.K\n",
    "                                                for r in model.R)\n",
    "        comments = 'obj:'+str(np.round(obj,3)) + '\\n' \\\n",
    "        'total goods delivered:' +str(total_goods) + '\\n'\\\n",
    "        'Number of vessels visited:' + str(vessels_visited) + '\\n'\\\n",
    "        'Total travel time: ' + str(np.round(total_travel_time,2))\n",
    "        # Now the figure\n",
    "        fig, ax = plt.subplots(figsize=[6, 5], dpi=250)\n",
    "\n",
    "        for i, coord in enumerate(coordinates):\n",
    "            x = coord[0]\n",
    "            y= coord[1]\n",
    "            ax.scatter(x,y, color = 'grey')\n",
    "            ax.annotate(cust_no[i], (x,y))\n",
    "        #print ('Number of nodes:',N)\n",
    "        for k in range(N_VEHICLES):\n",
    "            c = colors[k]\n",
    "            for r in model.R:\n",
    "                for i in range(len(demands)):\n",
    "                    for j in range(len(demands)):\n",
    "                        if i ==j: \n",
    "                            continue\n",
    "                        elif np.isclose(X_dict[i, j, k,r], 1, atol=1e-1):\n",
    "                            coord1 = coordinates[i]\n",
    "                            coord2 = coordinates[j]\n",
    "                            x1 = coord1[0]\n",
    "                            y1 = coord1[1]\n",
    "                            x2 = coord2[0]\n",
    "                            y2 = coord2[1]\n",
    "                            if i ==0 :\n",
    "                                f = 0\n",
    "                                d = 0\n",
    "                            else: \n",
    "                                demand_shuffled = demands_shuffled[i]\n",
    "                                f= np.nonzero(demand_shuffled)\n",
    "                                d = demand_shuffled[f].astype(int)[0]\n",
    "                                f = f[0][0]\n",
    "\n",
    "                            ax.scatter(x1,y1, color = c)\n",
    "\n",
    "                            # ax.annotate((i,d), (x1,y1))\n",
    "                            ax.plot((x1,x2), (y1,y2), color=c, label= k+1)\n",
    "        # these are matplotlib.patch.Patch properties\n",
    "        props = dict(boxstyle='round', facecolor='white', alpha=0.5)\n",
    "\n",
    "        # place a text box in upper left in axes coords\n",
    "        ax.text(0.05, 1.25, comments, transform=ax.transAxes, fontsize=12,\n",
    "                verticalalignment='top', bbox=props)\n",
    "        plt.tight_layout()\n",
    "        # fig.savefig(FILE_PATH+IMAGE_NAME+str(sol_index)+'.png', dpi = fig.dpi)"
   ]
  }
 ],
 "metadata": {
  "kernelspec": {
   "display_name": "Opti",
   "language": "python",
   "name": "python3"
  },
  "language_info": {
   "codemirror_mode": {
    "name": "ipython",
    "version": 3
   },
   "file_extension": ".py",
   "mimetype": "text/x-python",
   "name": "python",
   "nbconvert_exporter": "python",
   "pygments_lexer": "ipython3",
   "version": "3.9.19"
  }
 },
 "nbformat": 4,
 "nbformat_minor": 2
}
